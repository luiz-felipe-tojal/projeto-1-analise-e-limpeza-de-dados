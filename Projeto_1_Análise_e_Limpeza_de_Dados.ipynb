{
  "nbformat": 4,
  "nbformat_minor": 0,
  "metadata": {
    "colab": {
      "name": "Projeto 1: Análise e Limpeza de Dados.ipynb",
      "provenance": [],
      "toc_visible": true
    },
    "kernelspec": {
      "name": "python3",
      "display_name": "Python 3"
    },
    "language_info": {
      "name": "python"
    }
  },
  "cells": [
    {
      "cell_type": "code",
      "metadata": {
        "id": "rAXeS23tmp_v"
      },
      "source": [
        "# importar as bibliotecas\n",
        "import numpy as np\n",
        "import pandas as pd\n",
        "import matplotlib.pyplot as plt\n",
        "import seaborn as sns"
      ],
      "execution_count": 2,
      "outputs": []
    },
    {
      "cell_type": "code",
      "metadata": {
        "id": "F3_nAQREnoTI"
      },
      "source": [
        "# Coloque o caminho do arquivo csv para rodar o programa\n",
        "caminho_arquivo = '/content/drive/MyDrive/google/Colab Notebooks/turing/Projeto 1: Análise e Limpeza de Dados/df_athlete_events.csv'\n",
        "df = pd.read_csv(caminho_arquivo)\n"
      ],
      "execution_count": 3,
      "outputs": []
    },
    {
      "cell_type": "markdown",
      "metadata": {
        "id": "X4n4eXr4pK8s"
      },
      "source": [
        "# Estrutura dos dados"
      ]
    },
    {
      "cell_type": "code",
      "metadata": {
        "colab": {
          "base_uri": "https://localhost:8080/",
          "height": 479
        },
        "id": "HNPqXgEgpTQH",
        "outputId": "2d89f1f8-5771-4ec4-bd33-1d4d98dacf70"
      },
      "source": [
        "df.head()"
      ],
      "execution_count": 4,
      "outputs": [
        {
          "output_type": "execute_result",
          "data": {
            "text/html": [
              "<div>\n",
              "<style scoped>\n",
              "    .dataframe tbody tr th:only-of-type {\n",
              "        vertical-align: middle;\n",
              "    }\n",
              "\n",
              "    .dataframe tbody tr th {\n",
              "        vertical-align: top;\n",
              "    }\n",
              "\n",
              "    .dataframe thead th {\n",
              "        text-align: right;\n",
              "    }\n",
              "</style>\n",
              "<table border=\"1\" class=\"dataframe\">\n",
              "  <thead>\n",
              "    <tr style=\"text-align: right;\">\n",
              "      <th></th>\n",
              "      <th>Athlete_ID</th>\n",
              "      <th>Name</th>\n",
              "      <th>Sex</th>\n",
              "      <th>Age</th>\n",
              "      <th>Height</th>\n",
              "      <th>Weight</th>\n",
              "      <th>Team</th>\n",
              "      <th>NOC</th>\n",
              "      <th>Games</th>\n",
              "      <th>Year</th>\n",
              "      <th>Season</th>\n",
              "      <th>City</th>\n",
              "      <th>Sport</th>\n",
              "      <th>Event</th>\n",
              "      <th>Medal</th>\n",
              "    </tr>\n",
              "  </thead>\n",
              "  <tbody>\n",
              "    <tr>\n",
              "      <th>0</th>\n",
              "      <td>4</td>\n",
              "      <td>Edgar Lindenau Aabye</td>\n",
              "      <td>M</td>\n",
              "      <td>34.0</td>\n",
              "      <td>NaN</td>\n",
              "      <td>NaN</td>\n",
              "      <td>Denmark/Sweden</td>\n",
              "      <td>DEN</td>\n",
              "      <td>1900 Summer</td>\n",
              "      <td>1900</td>\n",
              "      <td>Summer</td>\n",
              "      <td>Paris</td>\n",
              "      <td>Tug-Of-War</td>\n",
              "      <td>Tug-Of-War Men's Tug-Of-War</td>\n",
              "      <td>Gold</td>\n",
              "    </tr>\n",
              "    <tr>\n",
              "      <th>1</th>\n",
              "      <td>6</td>\n",
              "      <td>Per Knut Aaland</td>\n",
              "      <td>M</td>\n",
              "      <td>31.0</td>\n",
              "      <td>188.0</td>\n",
              "      <td>75.0</td>\n",
              "      <td>United States</td>\n",
              "      <td>USA</td>\n",
              "      <td>1992 Winter</td>\n",
              "      <td>1992</td>\n",
              "      <td>Winter</td>\n",
              "      <td>Albertville</td>\n",
              "      <td>Cross Country Skiing</td>\n",
              "      <td>Cross Country Skiing Men's 10/15 kilometres Pu...</td>\n",
              "      <td>NaN</td>\n",
              "    </tr>\n",
              "    <tr>\n",
              "      <th>2</th>\n",
              "      <td>15</td>\n",
              "      <td>Arvo Ossian Aaltonen</td>\n",
              "      <td>M</td>\n",
              "      <td>30.0</td>\n",
              "      <td>NaN</td>\n",
              "      <td>NaN</td>\n",
              "      <td>Finland</td>\n",
              "      <td>FIN</td>\n",
              "      <td>1920 Summer</td>\n",
              "      <td>1920</td>\n",
              "      <td>Summer</td>\n",
              "      <td>Antwerpen</td>\n",
              "      <td>Swimming</td>\n",
              "      <td>Swimming Men's 200 metres Breaststroke</td>\n",
              "      <td>Bronze</td>\n",
              "    </tr>\n",
              "    <tr>\n",
              "      <th>3</th>\n",
              "      <td>15</td>\n",
              "      <td>Arvo Ossian Aaltonen</td>\n",
              "      <td>M</td>\n",
              "      <td>30.0</td>\n",
              "      <td>NaN</td>\n",
              "      <td>NaN</td>\n",
              "      <td>Finland</td>\n",
              "      <td>FIN</td>\n",
              "      <td>1920 Summer</td>\n",
              "      <td>1920</td>\n",
              "      <td>Summer</td>\n",
              "      <td>Antwerpen</td>\n",
              "      <td>Swimming</td>\n",
              "      <td>Swimming Men's 400 metres Breaststroke</td>\n",
              "      <td>Bronze</td>\n",
              "    </tr>\n",
              "    <tr>\n",
              "      <th>4</th>\n",
              "      <td>16</td>\n",
              "      <td>Juhamatti Tapio Aaltonen</td>\n",
              "      <td>M</td>\n",
              "      <td>28.0</td>\n",
              "      <td>184.0</td>\n",
              "      <td>85.0</td>\n",
              "      <td>Finland</td>\n",
              "      <td>FIN</td>\n",
              "      <td>2014 Winter</td>\n",
              "      <td>2014</td>\n",
              "      <td>Winter</td>\n",
              "      <td>Sochi</td>\n",
              "      <td>Ice Hockey</td>\n",
              "      <td>Ice Hockey Men's Ice Hockey</td>\n",
              "      <td>Bronze</td>\n",
              "    </tr>\n",
              "  </tbody>\n",
              "</table>\n",
              "</div>"
            ],
            "text/plain": [
              "   Athlete_ID  ...   Medal\n",
              "0           4  ...    Gold\n",
              "1           6  ...     NaN\n",
              "2          15  ...  Bronze\n",
              "3          15  ...  Bronze\n",
              "4          16  ...  Bronze\n",
              "\n",
              "[5 rows x 15 columns]"
            ]
          },
          "metadata": {},
          "execution_count": 4
        }
      ]
    },
    {
      "cell_type": "code",
      "metadata": {
        "colab": {
          "base_uri": "https://localhost:8080/"
        },
        "id": "RpJ14IalqNpv",
        "outputId": "05790cd7-74a2-439a-cadf-295d5b2cf660"
      },
      "source": [
        "df.info()"
      ],
      "execution_count": 5,
      "outputs": [
        {
          "output_type": "stream",
          "name": "stdout",
          "text": [
            "<class 'pandas.core.frame.DataFrame'>\n",
            "RangeIndex: 45567 entries, 0 to 45566\n",
            "Data columns (total 15 columns):\n",
            " #   Column      Non-Null Count  Dtype  \n",
            "---  ------      --------------  -----  \n",
            " 0   Athlete_ID  45567 non-null  int64  \n",
            " 1   Name        45567 non-null  object \n",
            " 2   Sex         45567 non-null  object \n",
            " 3   Age         44594 non-null  float64\n",
            " 4   Height      35547 non-null  float64\n",
            " 5   Weight      34926 non-null  object \n",
            " 6   Team        45567 non-null  object \n",
            " 7   NOC         45567 non-null  object \n",
            " 8   Games       45567 non-null  object \n",
            " 9   Year        45567 non-null  int64  \n",
            " 10  Season      45567 non-null  object \n",
            " 11  City        45567 non-null  object \n",
            " 12  Sport       45567 non-null  object \n",
            " 13  Event       45567 non-null  object \n",
            " 14  Medal       39804 non-null  object \n",
            "dtypes: float64(2), int64(2), object(11)\n",
            "memory usage: 5.2+ MB\n"
          ]
        }
      ]
    },
    {
      "cell_type": "code",
      "metadata": {
        "colab": {
          "base_uri": "https://localhost:8080/",
          "height": 297
        },
        "id": "JzUPrXA4p4Qc",
        "outputId": "35c1f188-4035-4333-b13e-4e15d69360f4"
      },
      "source": [
        "df.describe()"
      ],
      "execution_count": 6,
      "outputs": [
        {
          "output_type": "execute_result",
          "data": {
            "text/html": [
              "<div>\n",
              "<style scoped>\n",
              "    .dataframe tbody tr th:only-of-type {\n",
              "        vertical-align: middle;\n",
              "    }\n",
              "\n",
              "    .dataframe tbody tr th {\n",
              "        vertical-align: top;\n",
              "    }\n",
              "\n",
              "    .dataframe thead th {\n",
              "        text-align: right;\n",
              "    }\n",
              "</style>\n",
              "<table border=\"1\" class=\"dataframe\">\n",
              "  <thead>\n",
              "    <tr style=\"text-align: right;\">\n",
              "      <th></th>\n",
              "      <th>Athlete_ID</th>\n",
              "      <th>Age</th>\n",
              "      <th>Height</th>\n",
              "      <th>Year</th>\n",
              "    </tr>\n",
              "  </thead>\n",
              "  <tbody>\n",
              "    <tr>\n",
              "      <th>count</th>\n",
              "      <td>45567.000000</td>\n",
              "      <td>44594.000000</td>\n",
              "      <td>3.554700e+04</td>\n",
              "      <td>45567.000000</td>\n",
              "    </tr>\n",
              "    <tr>\n",
              "      <th>mean</th>\n",
              "      <td>69129.286282</td>\n",
              "      <td>25.851348</td>\n",
              "      <td>9.729939e+02</td>\n",
              "      <td>1972.391094</td>\n",
              "    </tr>\n",
              "    <tr>\n",
              "      <th>std</th>\n",
              "      <td>38866.485546</td>\n",
              "      <td>5.966053</td>\n",
              "      <td>3.446781e+04</td>\n",
              "      <td>94.200678</td>\n",
              "    </tr>\n",
              "    <tr>\n",
              "      <th>min</th>\n",
              "      <td>4.000000</td>\n",
              "      <td>10.000000</td>\n",
              "      <td>1.320000e+02</td>\n",
              "      <td>-2992.000000</td>\n",
              "    </tr>\n",
              "    <tr>\n",
              "      <th>25%</th>\n",
              "      <td>36105.500000</td>\n",
              "      <td>22.000000</td>\n",
              "      <td>1.700000e+02</td>\n",
              "      <td>1952.000000</td>\n",
              "    </tr>\n",
              "    <tr>\n",
              "      <th>50%</th>\n",
              "      <td>68634.000000</td>\n",
              "      <td>25.000000</td>\n",
              "      <td>1.780000e+02</td>\n",
              "      <td>1984.000000</td>\n",
              "    </tr>\n",
              "    <tr>\n",
              "      <th>75%</th>\n",
              "      <td>103181.000000</td>\n",
              "      <td>29.000000</td>\n",
              "      <td>1.850000e+02</td>\n",
              "      <td>2002.000000</td>\n",
              "    </tr>\n",
              "    <tr>\n",
              "      <th>max</th>\n",
              "      <td>135563.000000</td>\n",
              "      <td>73.000000</td>\n",
              "      <td>1.976779e+06</td>\n",
              "      <td>2016.000000</td>\n",
              "    </tr>\n",
              "  </tbody>\n",
              "</table>\n",
              "</div>"
            ],
            "text/plain": [
              "          Athlete_ID           Age        Height          Year\n",
              "count   45567.000000  44594.000000  3.554700e+04  45567.000000\n",
              "mean    69129.286282     25.851348  9.729939e+02   1972.391094\n",
              "std     38866.485546      5.966053  3.446781e+04     94.200678\n",
              "min         4.000000     10.000000  1.320000e+02  -2992.000000\n",
              "25%     36105.500000     22.000000  1.700000e+02   1952.000000\n",
              "50%     68634.000000     25.000000  1.780000e+02   1984.000000\n",
              "75%    103181.000000     29.000000  1.850000e+02   2002.000000\n",
              "max    135563.000000     73.000000  1.976779e+06   2016.000000"
            ]
          },
          "metadata": {},
          "execution_count": 6
        }
      ]
    },
    {
      "cell_type": "code",
      "metadata": {
        "colab": {
          "base_uri": "https://localhost:8080/",
          "height": 190
        },
        "id": "JXiU2w9oqId3",
        "outputId": "8ac7b343-78bc-4f58-a5d3-4761d3cfab33"
      },
      "source": [
        "df.describe(include=['object'])"
      ],
      "execution_count": 7,
      "outputs": [
        {
          "output_type": "execute_result",
          "data": {
            "text/html": [
              "<div>\n",
              "<style scoped>\n",
              "    .dataframe tbody tr th:only-of-type {\n",
              "        vertical-align: middle;\n",
              "    }\n",
              "\n",
              "    .dataframe tbody tr th {\n",
              "        vertical-align: top;\n",
              "    }\n",
              "\n",
              "    .dataframe thead th {\n",
              "        text-align: right;\n",
              "    }\n",
              "</style>\n",
              "<table border=\"1\" class=\"dataframe\">\n",
              "  <thead>\n",
              "    <tr style=\"text-align: right;\">\n",
              "      <th></th>\n",
              "      <th>Name</th>\n",
              "      <th>Sex</th>\n",
              "      <th>Weight</th>\n",
              "      <th>Team</th>\n",
              "      <th>NOC</th>\n",
              "      <th>Games</th>\n",
              "      <th>Season</th>\n",
              "      <th>City</th>\n",
              "      <th>Sport</th>\n",
              "      <th>Event</th>\n",
              "      <th>Medal</th>\n",
              "    </tr>\n",
              "  </thead>\n",
              "  <tbody>\n",
              "    <tr>\n",
              "      <th>count</th>\n",
              "      <td>45567</td>\n",
              "      <td>45567</td>\n",
              "      <td>34926</td>\n",
              "      <td>45567</td>\n",
              "      <td>45567</td>\n",
              "      <td>45567</td>\n",
              "      <td>45567</td>\n",
              "      <td>45567</td>\n",
              "      <td>45567</td>\n",
              "      <td>45567</td>\n",
              "      <td>39804</td>\n",
              "    </tr>\n",
              "    <tr>\n",
              "      <th>unique</th>\n",
              "      <td>32905</td>\n",
              "      <td>6</td>\n",
              "      <td>188</td>\n",
              "      <td>602</td>\n",
              "      <td>201</td>\n",
              "      <td>51</td>\n",
              "      <td>5</td>\n",
              "      <td>43</td>\n",
              "      <td>66</td>\n",
              "      <td>760</td>\n",
              "      <td>4</td>\n",
              "    </tr>\n",
              "    <tr>\n",
              "      <th>top</th>\n",
              "      <td>Michael Fred Phelps, II</td>\n",
              "      <td>M</td>\n",
              "      <td>70.0</td>\n",
              "      <td>United States</td>\n",
              "      <td>USA</td>\n",
              "      <td>2008 Summer</td>\n",
              "      <td>Summer</td>\n",
              "      <td>London</td>\n",
              "      <td>Athletics</td>\n",
              "      <td>Football Men's Football</td>\n",
              "      <td>Gold</td>\n",
              "    </tr>\n",
              "    <tr>\n",
              "      <th>freq</th>\n",
              "      <td>28</td>\n",
              "      <td>31664</td>\n",
              "      <td>1443</td>\n",
              "      <td>5515</td>\n",
              "      <td>5957</td>\n",
              "      <td>2321</td>\n",
              "      <td>38607</td>\n",
              "      <td>4091</td>\n",
              "      <td>4811</td>\n",
              "      <td>1379</td>\n",
              "      <td>13320</td>\n",
              "    </tr>\n",
              "  </tbody>\n",
              "</table>\n",
              "</div>"
            ],
            "text/plain": [
              "                           Name    Sex  ...                    Event  Medal\n",
              "count                     45567  45567  ...                    45567  39804\n",
              "unique                    32905      6  ...                      760      4\n",
              "top     Michael Fred Phelps, II      M  ...  Football Men's Football   Gold\n",
              "freq                         28  31664  ...                     1379  13320\n",
              "\n",
              "[4 rows x 11 columns]"
            ]
          },
          "metadata": {},
          "execution_count": 7
        }
      ]
    },
    {
      "cell_type": "code",
      "metadata": {
        "id": "v7Bp7d0KMm1l"
      },
      "source": [
        "# cria coluna 'Decade' com a década da participação do atleta\n",
        "df['Decade'] = (df['Year']//10) * 10\n",
        "df_1890 = df[df.Year == 1890]\n",
        "df_1900 = df[df.Year == 1900]\n",
        "df_1910 = df[df.Year == 1910]\n",
        "df_1920 = df[df.Year == 1920]\n",
        "df_1930 = df[df.Year == 1930]\n",
        "df_1940 = df[df.Year == 1940]\n",
        "df_1950 = df[df.Year == 1950]\n",
        "df_1960 = df[df.Year == 1960]\n",
        "df_1970 = df[df.Year == 1970]\n",
        "df_1980 = df[df.Year == 1980]\n",
        "df_1990 = df[df.Year == 1990]\n",
        "df_2000 = df[df.Year == 2000]\n",
        "df_2010 = df[df.Year == 2010]"
      ],
      "execution_count": 8,
      "outputs": []
    },
    {
      "cell_type": "markdown",
      "metadata": {
        "id": "t10JdJVy6JrN"
      },
      "source": [
        "# Limpeza coluna 'Sex'"
      ]
    },
    {
      "cell_type": "code",
      "metadata": {
        "colab": {
          "base_uri": "https://localhost:8080/"
        },
        "id": "nvWCDqeNBjUQ",
        "outputId": "d7ef1abb-4b34-4360-b1b2-c1dfe11d678f"
      },
      "source": [
        "df.Sex.describe()"
      ],
      "execution_count": 9,
      "outputs": [
        {
          "output_type": "execute_result",
          "data": {
            "text/plain": [
              "count     45567\n",
              "unique        6\n",
              "top           M\n",
              "freq      31664\n",
              "Name: Sex, dtype: object"
            ]
          },
          "metadata": {},
          "execution_count": 9
        }
      ]
    },
    {
      "cell_type": "code",
      "metadata": {
        "colab": {
          "base_uri": "https://localhost:8080/"
        },
        "id": "ZgB6-dt8uail",
        "outputId": "bacedb01-2eac-448f-d526-599747f48722"
      },
      "source": [
        "# printa os diferentes valores contidos na coluna 'Sex'\n",
        "print(pd.Series(df['Sex'].unique()), end='\\n\\n')"
      ],
      "execution_count": 10,
      "outputs": [
        {
          "output_type": "stream",
          "name": "stdout",
          "text": [
            "0                          M\n",
            "1                       MALE\n",
            "2                     FEMALE\n",
            "3                          F\n",
            "4    Vic vai te dar um socao\n",
            "5          P&D >> Comunidade\n",
            "dtype: object\n",
            "\n"
          ]
        }
      ]
    },
    {
      "cell_type": "code",
      "metadata": {
        "id": "Km_bLvuTA0rS"
      },
      "source": [
        "# remove as fileiras que contem valores inconcistentes para 'Sex'\n",
        "df = df[df.Sex !=  'P&D >> Comunidade']\n",
        "df = df[df.Sex !=  'Vic vai te dar um socao']"
      ],
      "execution_count": 11,
      "outputs": []
    },
    {
      "cell_type": "code",
      "metadata": {
        "id": "BKuE8F5X05aU"
      },
      "source": [
        "# padroniza os strings de identificação dos sexos masculino e feminino\n",
        "df.replace(to_replace='M', value='MALE', inplace=True)\n",
        "df.replace(to_replace='F', value='FEMALE', inplace=True)\n"
      ],
      "execution_count": 12,
      "outputs": []
    },
    {
      "cell_type": "code",
      "metadata": {
        "colab": {
          "base_uri": "https://localhost:8080/"
        },
        "id": "plgVSz1e3dvg",
        "outputId": "55534883-26a0-4624-88cf-128d3e18224d"
      },
      "source": [
        "# verifica se a limpeza realizada deu certo\n",
        "print(pd.Series(df['Sex'].unique()), end='\\n\\n')\n",
        "print(\"numero de homens é \", len(df[df['Sex']==\"MALE\"]))\n",
        "print(\"numero de mulheres é \", len(df[df['Sex']==\"FEMALE\"]))"
      ],
      "execution_count": 13,
      "outputs": [
        {
          "output_type": "stream",
          "name": "stdout",
          "text": [
            "0      MALE\n",
            "1    FEMALE\n",
            "dtype: object\n",
            "\n",
            "numero de homens é  32429\n",
            "numero de mulheres é  12493\n"
          ]
        }
      ]
    },
    {
      "cell_type": "code",
      "metadata": {
        "colab": {
          "base_uri": "https://localhost:8080/"
        },
        "id": "U5kmjPstBulH",
        "outputId": "eab4712e-43c7-484e-b2b0-e67fc33309a3"
      },
      "source": [
        "# verifica existênciade valores faltante na coluna 'Sex'\n",
        "df.Sex.isna().sum()"
      ],
      "execution_count": 14,
      "outputs": [
        {
          "output_type": "execute_result",
          "data": {
            "text/plain": [
              "0"
            ]
          },
          "metadata": {},
          "execution_count": 14
        }
      ]
    },
    {
      "cell_type": "markdown",
      "metadata": {
        "id": "-zJ9NjaUAga6"
      },
      "source": [
        "# Limpeza coluna 'Age'\n"
      ]
    },
    {
      "cell_type": "code",
      "metadata": {
        "colab": {
          "base_uri": "https://localhost:8080/"
        },
        "id": "zJFjlbNuA1Oj",
        "outputId": "da85def2-ca6d-456d-d2e3-f13eaa9df07e"
      },
      "source": [
        "# printa os diferentes valores contidos na coluna 'Age'\n",
        "print(df['Age'].unique(), end='\\n\\n')"
      ],
      "execution_count": 15,
      "outputs": [
        {
          "output_type": "stream",
          "name": "stdout",
          "text": [
            "[34. 31. 30. 28. 32. 20. 22. 27. 24. 23. 25. 21. 26. 38. 29. 33. nan 41.\n",
            " 35. 19. 36. 15. 17. 16. 18. 43. 37. 45. 39. 53. 47. 44. 49. 40. 52. 14.\n",
            " 54. 48. 46. 56. 42. 58. 13. 70. 60. 50. 51. 62. 57. 61. 66. 55. 65. 73.\n",
            " 12. 72. 68. 59. 11. 69. 63. 64. 10. 71.]\n",
            "\n"
          ]
        }
      ]
    },
    {
      "cell_type": "code",
      "metadata": {
        "id": "7be-IhyYBxO2"
      },
      "source": [
        "# remove todas as linhas cujas idades não pertecem ao intervalo entre 13 e 66 anos, as idades maxima e minim de atletas olimpicos\n",
        "for i in range(10, 13):\n",
        "  df = df[df.Age != i]\n",
        "for i in range(67, 74):\n",
        "  df = df[df.Age != i]\n"
      ],
      "execution_count": 16,
      "outputs": []
    },
    {
      "cell_type": "code",
      "metadata": {
        "colab": {
          "base_uri": "https://localhost:8080/"
        },
        "id": "mbGtpU0DEPo-",
        "outputId": "e0ec98ac-0bc7-49e2-d6b1-765c29edb9c2"
      },
      "source": [
        "# a descrição da feature Age nos mostra que todas as idades obedecem o intervalo estabelecido\n",
        "df['Age'].describe()"
      ],
      "execution_count": 17,
      "outputs": [
        {
          "output_type": "execute_result",
          "data": {
            "text/plain": [
              "count    43936.000000\n",
              "mean        25.855699\n",
              "std          5.930233\n",
              "min         13.000000\n",
              "25%         22.000000\n",
              "50%         25.000000\n",
              "75%         29.000000\n",
              "max         66.000000\n",
              "Name: Age, dtype: float64"
            ]
          },
          "metadata": {},
          "execution_count": 17
        }
      ]
    },
    {
      "cell_type": "code",
      "metadata": {
        "id": "0DXD-ACm8DiY"
      },
      "source": [
        "# insere nos valores faltantes a media de idade do dataframe\n",
        "df.Age.fillna(df.Age.mean(), inplace=True)"
      ],
      "execution_count": 18,
      "outputs": []
    },
    {
      "cell_type": "markdown",
      "metadata": {
        "id": "fx6kQ6Ij6Slq"
      },
      "source": [
        "# Limpeza coluna 'Weight'"
      ]
    },
    {
      "cell_type": "code",
      "metadata": {
        "colab": {
          "base_uri": "https://localhost:8080/"
        },
        "id": "tCHvfrvPmNCW",
        "outputId": "956f6a1e-8252-4892-a1a9-580098fb8241"
      },
      "source": [
        "# descrição da coluna 'Weight' nos mostra que tipo dos valores é object e nao float\n",
        "df.Weight.describe()"
      ],
      "execution_count": 19,
      "outputs": [
        {
          "output_type": "execute_result",
          "data": {
            "text/plain": [
              "count     34396\n",
              "unique      187\n",
              "top        70.0\n",
              "freq       1421\n",
              "Name: Weight, dtype: object"
            ]
          },
          "metadata": {},
          "execution_count": 19
        }
      ]
    },
    {
      "cell_type": "code",
      "metadata": {
        "colab": {
          "base_uri": "https://localhost:8080/"
        },
        "id": "kJBzz4VjrPWt",
        "outputId": "23ba1228-6425-40e3-9907-39137c30b6c8"
      },
      "source": [
        "# printa os diferentes valores contidos na coluna 'Weight'\n",
        "df.Weight.unique()"
      ],
      "execution_count": 20,
      "outputs": [
        {
          "output_type": "execute_result",
          "data": {
            "text/plain": [
              "array([nan, '75.0', '85.0', '64.0', '90.0', '87.0', '49.0', 'hsuahusahu',\n",
              "       '76.0', '83.0', '86.0', '82.0', '55.0', '67.0', '60.0', '79.0',\n",
              "       '96.0', '97.0', '70.0', '88.0', '56.0', '80.0', '59.0', '91.0',\n",
              "       '72.0', '62.0', '63.0', '130.0', '104.0', '73.0', '84.0', '125.0',\n",
              "       '50.0', '102.0', '48.0', '58.0', '78.0', '40.0', '68.0', '92.0',\n",
              "       '61.0', '95.0', '89.0', '65.0', '93.0', '77.0', '46.0', '81.0',\n",
              "       '52.0', '54.0', '57.0', '69.0', '99.0', '69.5', '51.0', '120.0',\n",
              "       '74.0', '110.0', '100.0', '66.0', '47.0', '116.0', '107.0', '53.0',\n",
              "       '105.0', '109.0', '156.0', '71.0', '98.0', '160.0', '106.0',\n",
              "       '146.0', '44.0', '138.0', '141.0', '94.0', '118.0', '101.0',\n",
              "       '39.0', '32.0', '112.0', '115.0', '74.5', '121.0', '135.0',\n",
              "       '111.0', '43.0', '36.0', '67.5', '45.0', '114.0', '132.0', '65.5',\n",
              "       '42.0', '59.5', '127.5', '108.0', '35.0', '117.0', '103.0', '58.5',\n",
              "       '214.0', '113.0', '146.5', '116.5', '140.0', '38.0', '101.5',\n",
              "       '154.0', '57.5', '136.0', '127.0', '102.5', '170.0', '126.0',\n",
              "       '77.3333333333333', '122.0', '55.5', '41.0', '123.0', '34.0',\n",
              "       '150.0', '109.5', '37.0', '70.5', '71.5', '30.0', '76.5', '64.5',\n",
              "       '33.0', '129.0', '137.0', '128.0', '73.5', '54.5', '56.5', '63.5',\n",
              "       '134.0', '147.0', '100.5', '78.5', '82.5', '61.5', '83.5', '77.5',\n",
              "       '53.5', '87.5', '124.0', '72.5', '88.5', '68.5', '81.5', '89.5',\n",
              "       '167.0', '91.5', '79.5', '66.5', '85.5', '108.5', '142.0', '86.5',\n",
              "       '106.5', '60.5', '135.5', '31.0', '148.0', '93.5', '97.5', '103.5',\n",
              "       '175.0', '90.5', '131.0', '145.0', '119.0', '155.0', '139.0',\n",
              "       '52.5', '104.5', '143.0', '105.5', '75.5', '84.5', '92.5', '182.0',\n",
              "       '62.5', '130.5', '28.0', '163.0'], dtype=object)"
            ]
          },
          "metadata": {},
          "execution_count": 20
        }
      ]
    },
    {
      "cell_type": "code",
      "metadata": {
        "id": "xD4DEfaN9OSA"
      },
      "source": [
        "# remove o valor incoerente encontrado no ndarray acima\n",
        "df = df[df['Weight'] != 'hsuahusahu']\n"
      ],
      "execution_count": 21,
      "outputs": []
    },
    {
      "cell_type": "code",
      "metadata": {
        "id": "ZJV7g5Ng5_PE"
      },
      "source": [
        "# converte o tipo dos valores de 'Weight' para float\n",
        "df[\"Weight\"] = pd.to_numeric(df[\"Weight\"], downcast=\"float\")"
      ],
      "execution_count": 22,
      "outputs": []
    },
    {
      "cell_type": "code",
      "metadata": {
        "id": "KAwzvmWw9IQb"
      },
      "source": [
        "# insere a media de pesos nas fileiras com valores faltantes\n",
        "df['Weight'].fillna(df.Weight.mean(), inplace=True)"
      ],
      "execution_count": 23,
      "outputs": []
    },
    {
      "cell_type": "code",
      "metadata": {
        "colab": {
          "base_uri": "https://localhost:8080/"
        },
        "id": "34AzMm949hCa",
        "outputId": "013edeb4-442d-4242-e84c-48798298e4c0"
      },
      "source": [
        "# com o tipo float a descricao da coluna fica mais detalhada e percebemos valores coerentes de maximo e minimo\n",
        "df.Weight.describe()"
      ],
      "execution_count": 24,
      "outputs": [
        {
          "output_type": "execute_result",
          "data": {
            "text/plain": [
              "count    44415.000000\n",
              "mean        73.524292\n",
              "std         13.086416\n",
              "min         28.000000\n",
              "25%         66.000000\n",
              "50%         73.530113\n",
              "75%         79.000000\n",
              "max        214.000000\n",
              "Name: Weight, dtype: float64"
            ]
          },
          "metadata": {},
          "execution_count": 24
        }
      ]
    },
    {
      "cell_type": "markdown",
      "metadata": {
        "id": "O_NgA0gNvMej"
      },
      "source": [
        "# Limpeza coluna 'Height'"
      ]
    },
    {
      "cell_type": "code",
      "metadata": {
        "colab": {
          "base_uri": "https://localhost:8080/"
        },
        "id": "1uJ213g_wYhG",
        "outputId": "064d6dc7-250c-448d-8299-ff41a46d53a6"
      },
      "source": [
        "df.Height.describe()"
      ],
      "execution_count": 25,
      "outputs": [
        {
          "output_type": "execute_result",
          "data": {
            "text/plain": [
              "count    3.455700e+04\n",
              "mean     9.340258e+02\n",
              "std      3.343668e+04\n",
              "min      1.320000e+02\n",
              "25%      1.700000e+02\n",
              "50%      1.780000e+02\n",
              "75%      1.850000e+02\n",
              "max      1.976779e+06\n",
              "Name: Height, dtype: float64"
            ]
          },
          "metadata": {},
          "execution_count": 25
        }
      ]
    },
    {
      "cell_type": "code",
      "metadata": {
        "id": "djL8OWF5wQyX"
      },
      "source": [
        "# remove todas as linhas cujas alturas não pertecem ao intervalo entre 130 e 250 centimetros\n",
        "df = df[df.Height > 130]\n",
        "df = df[df.Height < 250]\n"
      ],
      "execution_count": 26,
      "outputs": []
    },
    {
      "cell_type": "code",
      "metadata": {
        "colab": {
          "base_uri": "https://localhost:8080/"
        },
        "id": "Kc_9-QL_Gr1T",
        "outputId": "a1415b2f-f3b0-4446-dfcc-8013cfeb47bd"
      },
      "source": [
        "# descricao das alturas mostra valores coerentes de maximo e minimo\n",
        "df.Height.describe()"
      ],
      "execution_count": 27,
      "outputs": [
        {
          "output_type": "execute_result",
          "data": {
            "text/plain": [
              "count    34535.000000\n",
              "mean       177.340321\n",
              "std         10.856361\n",
              "min        132.000000\n",
              "25%        170.000000\n",
              "50%        178.000000\n",
              "75%        185.000000\n",
              "max        223.000000\n",
              "Name: Height, dtype: float64"
            ]
          },
          "metadata": {},
          "execution_count": 27
        }
      ]
    },
    {
      "cell_type": "code",
      "metadata": {
        "id": "OMgH8Ft9bUHg"
      },
      "source": [
        "# insere a media de alturas onde ha dados faltantes de altura\n",
        "df.Height.fillna(df.Height.mean(), inplace=True)"
      ],
      "execution_count": 28,
      "outputs": []
    },
    {
      "cell_type": "markdown",
      "metadata": {
        "id": "NiD00RugcDEp"
      },
      "source": [
        "# Limpeza coluna 'Team'"
      ]
    },
    {
      "cell_type": "code",
      "metadata": {
        "colab": {
          "base_uri": "https://localhost:8080/"
        },
        "id": "W5RVzHovcMWc",
        "outputId": "ddffef25-11f6-4b1d-eb51-174763f6ebae"
      },
      "source": [
        "# printa os diferentes valores contidos na coluna 'Team'\n",
        "print(df.Team.unique())"
      ],
      "execution_count": 29,
      "outputs": [
        {
          "output_type": "stream",
          "name": "stdout",
          "text": [
            "['United States' 'Finland' 'Norway' 'Italy' 'Spain' 'Azerbaijan'\n",
            " 'Argentina' 'Belarus' 'France' 'Cameroon' 'Russia' 'Hungary' 'Australia'\n",
            " 'Iran' 'Canada' 'Pakistan' 'Soviet Union' 'Uzbekistan' 'Tajikistan'\n",
            " 'Unified Team' 'Japan' 'East Germany' 'Germany' 'Ethiopia' 'Sweden'\n",
            " 'Turkey' 'Bulgaria' 'Egypt' 'Great Britain' 'Djibouti' 'Jordan' 'Romania'\n",
            " 'Switzerland' 'Puerto Rico' 'Venezuela' 'Mexico' 'Ghana' 'Morocco'\n",
            " 'Switzerland-1' 'Switzerland-2' 'Cuba' 'Poland' 'Czechoslovakia'\n",
            " 'South Africa' 'New Zealand' 'Nigeria' 'Kenya' 'Brazil' 'France-1'\n",
            " 'Germany-2' 'Lithuania' 'Netherlands' 'United States-1' 'West Germany'\n",
            " 'Benin' 'Panama' 'El Salvador' 'Indonesia' 'Malaysia' 'Indonesia-1'\n",
            " 'Germany-1' 'South Korea' 'Mutafo' 'Chile' 'Mauritania' 'Ukraine'\n",
            " 'Uganda' 'Iraq' 'Syria' 'Qatar' 'Kuwait' 'Oman' 'Palestine'\n",
            " 'Individual Olympic Athletes' 'Saudi Arabia' 'United Arab Emirates'\n",
            " 'Croatia' 'Colombia' 'Soviet Union-2' 'Armenia' 'Serbia' 'Monaco'\n",
            " 'Iceland' 'Niger' 'Papua New Guinea' 'Sudan' 'India'\n",
            " 'Bosnia and Herzegovina' 'Brazil-1' 'Algeria' 'Austria' 'Jamaica'\n",
            " 'Trinidad and Tobago' \"Cote d'Ivoire\" 'Italy-2' 'Greece' 'East Germany-1'\n",
            " 'Botswana' 'Refugee Olympic Athletes' 'Tunisia' 'South Korea-2'\n",
            " 'North Korea' 'China' 'Yugoslavia' 'Denmark' 'Uruguay' 'Madagascar'\n",
            " '#ForaBolsonaro' 'Guyana' 'Kazakhstan' 'Austria-1' 'Japan-1'\n",
            " 'Great Britain-2' 'Ireland' 'Belgium' 'Mosk II' 'Italy-1' 'Elisabeth X'\n",
            " 'British Virgin Islands' 'Philippines' 'Dominican Republic' 'Georgia'\n",
            " 'Sweden-2' 'Estonia' 'Ukraine-2' 'Russia-1' 'Israel' 'Czech Republic'\n",
            " 'Serbia and Montenegro' 'Slovakia' 'West Germany-1' 'Paraguay'\n",
            " 'Great Britain-1' 'Bahamas' 'Australasia' 'United States-2' 'Montenegro'\n",
            " 'Portugal' 'London City Police-1' 'Guatemala' 'Andorra' 'Luxembourg'\n",
            " 'Bingo' 'Slovenia' 'Australia-1' 'Tanzania' 'Bermuda' 'Lebanon'\n",
            " 'Mauritius' 'Unified Team-2' 'Albania' 'Kyrgyzstan' 'East Germany-2'\n",
            " 'Barbados' 'Symphony' 'Peru' 'Soviet Union-1' 'France-2' 'Widgeon'\n",
            " 'Russia-2' 'Sirene' 'Angola' 'Snap' 'Tip' 'White Lady' 'Web II'\n",
            " 'Burkina Faso' 'Gabon' 'Buraddoo' 'Canada-1' 'Canada-2'\n",
            " 'New York Turnverein, New York' 'Guam' 'Sri Lanka' 'Thailand' 'Malta'\n",
            " 'Togo' 'Latvia' 'Netherlands-1' 'Liechtenstein' 'Austria-2'\n",
            " 'Boston Archers' 'Soviet Union-3' 'Libellule de Paris'\n",
            " 'Winnipeg Shamrocks-1' 'China-1' 'Tango' 'Zimbabwe' 'Ecuador' 'Elvis Va'\n",
            " 'San Marino' 'Oranje' 'Willem-Six' 'Nicaragua' 'Honduras' 'Haiti'\n",
            " 'Hong Kong' 'Chinese Taipei' 'Singapore' 'Malaysia-1' 'Mongolia' 'Zambia'\n",
            " 'Venilia' 'Moldova' 'Australia-2' 'Saint Kitts and Nevis' 'Gem'\n",
            " 'Ballerina IV' 'United States-3' 'Samoa' 'Fiji'\n",
            " 'New York Athletic Club #1-1' 'Kurush II' 'Aphrodite' 'China-2' 'Senegal'\n",
            " 'Aruba' 'Silja' 'Unified Team-1' 'United States/Great Britain' 'Naiad'\n",
            " 'Latvia-1' 'Argentina-2' 'Cayman Islands' 'Western Golf Association-1'\n",
            " 'West Germany-2' 'Galejan' 'Brazil-2' 'Denmark-2' 'Nirefs' 'Tonga'\n",
            " 'United States Virgin Islands' 'Gem IV' 'Grifo IV' 'Spain-1' 'Guinea'\n",
            " 'Skum' 'Namibia' 'Suriname' 'West Indies Federation' 'Marshall Islands'\n",
            " 'Sierra Leone' 'Philadelphia Turngemeinde, Philadelphia' 'Latvia-2'\n",
            " 'South Korea-1' 'Shrew II' 'Slovakia-2' 'Chicago Athletic Association'\n",
            " 'Don Schufro' 'Ormsund Roklub-2' 'Lesotho' 'Czech Republic-1' 'Vietnam'\n",
            " 'Ukraine-1' 'Minotaur' 'Macedonia' 'Bahrain' 'Grenada' 'Bluebottle'\n",
            " 'Gambia' 'Clearwater' 'Denmark-1' 'Macky VI' 'Cyprus' 'Rush VII' 'Kosovo'\n",
            " 'Bonaparte' 'Toronto Argonauts' 'Afghanistan' 'Russia-3' 'Yemen'\n",
            " 'Eritrea' 'Hong Kong-2' 'Czech Republic-2' 'Fram' 'Magda IX' 'Sildra-1'\n",
            " 'Lully II' 'Poland-1' 'Malaya' 'St. Louis Southwest Turnverein #2-3'\n",
            " 'Trans-Mississippi Golf Association-2' 'Combine' 'Spain-2'\n",
            " 'Moseley Wanderers' 'Kathleen' 'Bem II' 'Starita' 'Foxhunters Hurlingham'\n",
            " 'France/Great Britain' 'Jest' 'Dominica' 'Costa Rica' 'Japan-2'\n",
            " 'Central Turnverein, Chicago' 'Belize' 'Antigua and Barbuda' 'Nadine'\n",
            " 'Rose Pompon' 'Angelita' 'Poland-2' 'Lady C' 'Congo (Kinshasa)'\n",
            " 'North Yemen' 'Mozambique' 'Kiribati' 'Myanmar' 'Hungary-1' 'Swaziland'\n",
            " 'Romania-1' 'New York Athletic Club' 'Cook Islands' 'Burundi'\n",
            " 'Barrenjoey' 'Rwanda' 'Union des Socits Franais de Sports Athletiques'\n",
            " 'Heira II' 'Atlanta' 'Libya' 'Slaghoken II' 'Ireland-1' 'Pandora'\n",
            " 'Humbug V' 'Tornado' 'Royal Club Nautique de Gand' \"Ma'Lindo\"\n",
            " 'Racing Club de France' 'Alain IV' 'Joy' 'Uzbekistan-1' 'Orion' 'Djinn'\n",
            " 'Czechoslovakia-1' 'Amateur Athletic Association' 'Liberia'\n",
            " 'Congo (Brazzaville)' 'Sunrise' 'United States Virgin Islands-2'\n",
            " 'China-3' 'Malaysia-2' 'Ralia' 'Nauru' 'Potomac Archers' 'Glider'\n",
            " 'Germany-3' 'Rush V' 'Australia-3' 'Merope' 'Merope III' 'Rhodesia'\n",
            " 'Norway-1' 'Falcon IV' 'Argonaut Rowing Club' 'Cornwall'\n",
            " 'New York Athletic Club-1' 'Salinero' 'Federated States of Micronesia'\n",
            " 'Satchmo' 'England-1' 'Digby']\n"
          ]
        }
      ]
    },
    {
      "cell_type": "code",
      "metadata": {
        "id": "sSDB5OAMccZp",
        "colab": {
          "base_uri": "https://localhost:8080/"
        },
        "outputId": "c6ddfb51-d055-45c4-8df7-6e8f2f3c7b23"
      },
      "source": [
        "# verifica existencia de dados faltantes\n",
        "df.Team.isna().sum()"
      ],
      "execution_count": 30,
      "outputs": [
        {
          "output_type": "execute_result",
          "data": {
            "text/plain": [
              "0"
            ]
          },
          "metadata": {},
          "execution_count": 30
        }
      ]
    },
    {
      "cell_type": "markdown",
      "metadata": {
        "id": "lxyV7y7VcdHQ"
      },
      "source": [
        "# Limpeza coluna 'NOC'"
      ]
    },
    {
      "cell_type": "code",
      "metadata": {
        "colab": {
          "base_uri": "https://localhost:8080/"
        },
        "id": "0mSvVV4ockSG",
        "outputId": "b0924542-d49d-44ae-8c8c-aaf83ba510d9"
      },
      "source": [
        "# printa os diferentes valores contidos na coluna 'NOC'\n",
        "print(df.NOC.unique())"
      ],
      "execution_count": 31,
      "outputs": [
        {
          "output_type": "stream",
          "name": "stdout",
          "text": [
            "['USA' 'FIN' 'NOR' 'ITA' 'ESP' 'AZE' 'ARG' 'BLR' 'FRA' 'CMR' 'RUS' 'HUN'\n",
            " 'AUS' 'IRI' 'CAN' 'PAK' 'URS' 'UZB' 'TJK' 'EUN' 'JPN' 'GDR' 'GER' 'ETH'\n",
            " 'SWE' 'TUR' 'BUL' 'EGY' 'GBR' 'DJI' 'JOR' 'ROU' 'SUI' 'PUR' 'VEN' 'MEX'\n",
            " 'GHA' 'MAR' 'CUB' 'POL' 'TCH' 'RSA' 'NZL' 'NGR' 'KEN' 'BRA' 'LTU' 'NED'\n",
            " 'FRG' 'BEN' 'PAN' 'ESA' 'INA' 'MAS' 'KOR' 'CHI' 'MTN' 'UKR' 'UGA' 'IRQ'\n",
            " 'SYR' 'QAT' 'KUW' 'OMA' 'PLE' 'IOA' 'KSA' 'UAE' 'CRO' 'COL' 'ARM' 'SRB'\n",
            " 'MON' 'ISL' 'NIG' 'PNG' 'SUD' 'IND' 'BIH' 'ALG' 'AUT' 'JAM' 'TTO' 'CIV'\n",
            " 'GRE' 'BOT' 'ROT' 'TUN' 'PRK' 'CHN' 'YUG' 'DEN' 'URU' 'MAD' 'GUY' 'KAZ'\n",
            " 'IRL' 'BEL' 'IVB' 'PHI' 'DOM' 'GEO' 'EST' 'ISR' 'CZE' 'SCG' 'SVK' 'PAR'\n",
            " 'BAH' 'ANZ' 'MNE' 'POR' 'GUA' 'AND' 'LUX' 'SLO' 'TAN' 'BER' 'LIB' 'MRI'\n",
            " 'ALB' 'KGZ' 'BAR' 'PER' 'ANG' 'BUR' 'GAB' 'GUM' 'SRI' 'THA' 'MLT' 'TOG'\n",
            " 'LAT' 'LIE' 'ZIM' 'ECU' 'SMR' 'NCA' 'HON' 'HAI' 'HKG' 'TPE' 'SGP' 'MGL'\n",
            " 'ZAM' 'MDA' 'SKN' 'SAM' 'FIJ' 'SEN' 'ARU' 'CAY' 'TGA' 'ISV' 'GUI' 'NAM'\n",
            " 'SUR' 'WIF' 'MHL' 'SLE' 'LES' 'VIE' 'MKD' 'BRN' 'GRN' 'GAM' 'CYP' 'KOS'\n",
            " 'AFG' 'YEM' 'ERI' 'MAL' 'DMA' 'CRC' 'BIZ' 'ANT' 'COD' 'YAR' 'MOZ' 'KIR'\n",
            " 'MYA' 'SWZ' 'COK' 'BDI' 'RWA' 'LBA' 'LBR' 'CGO' 'NRU' 'RHO' 'FSM']\n"
          ]
        }
      ]
    },
    {
      "cell_type": "code",
      "metadata": {
        "colab": {
          "base_uri": "https://localhost:8080/"
        },
        "id": "sjJZYmEqG84l",
        "outputId": "1ec21e20-3a6b-43a6-b30c-cd7f5cc9ed67"
      },
      "source": [
        "# verifica existencia de dados faltantes\n",
        "df.NOC.isna().sum()"
      ],
      "execution_count": 32,
      "outputs": [
        {
          "output_type": "execute_result",
          "data": {
            "text/plain": [
              "0"
            ]
          },
          "metadata": {},
          "execution_count": 32
        }
      ]
    },
    {
      "cell_type": "markdown",
      "metadata": {
        "id": "uSK31q7BdO8I"
      },
      "source": [
        "# Limpeza coluna 'Games'"
      ]
    },
    {
      "cell_type": "code",
      "metadata": {
        "colab": {
          "base_uri": "https://localhost:8080/"
        },
        "id": "36xxmZM0dUCl",
        "outputId": "495220c7-5e6c-4a08-aed0-c1e51df7a620"
      },
      "source": [
        "# printa os diferentes valores contidos na coluna 'Games'\n",
        "print(df.Games.unique())"
      ],
      "execution_count": 33,
      "outputs": [
        {
          "output_type": "stream",
          "name": "stdout",
          "text": [
            "['1992 Winter' '2014 Winter' '1948 Summer' '1952 Summer' '1994 Winter'\n",
            " '2002 Winter' '2006 Winter' '2008 Summer' '1996 Summer' '2016 Summer'\n",
            " '2000 Summer' '2012 Summer' '2004 Summer' '1980 Summer' '1984 Summer'\n",
            " '1992 Summer' '1988 Summer' '1960 Summer' '1964 Summer' '1972 Summer'\n",
            " '1936 Summer' '1924 Winter' '1912 Summer' '1932 Summer' '1924 Summer'\n",
            " '1920 Summer' '1988 Winter' '1968 Winter' '1976 Summer' '1998 Winter'\n",
            " '2010 Winter' '1928 Summer' '1968 Summer' '1956 Summer' '1972 Winter'\n",
            " '1908 Summer' '1980 Winter' '1984 Winter' '1960 Winter' '1976 Winter'\n",
            " '1964 Winter' '1936 Winter' '1956 Winter' '1932 Winter' '1928 Winter'\n",
            " '1904 Summer' '1952 Winter' '1906 Summer' '1900 Summer' '1896 Summer'\n",
            " '1948 Winter']\n"
          ]
        }
      ]
    },
    {
      "cell_type": "code",
      "metadata": {
        "id": "e0q-59tidTCu",
        "colab": {
          "base_uri": "https://localhost:8080/"
        },
        "outputId": "0d56bea5-f5b8-402b-d6e5-b6770c16b8a2"
      },
      "source": [
        "# verifica existencia de dados faltantes\n",
        "df.Games.isna().sum()"
      ],
      "execution_count": 34,
      "outputs": [
        {
          "output_type": "execute_result",
          "data": {
            "text/plain": [
              "0"
            ]
          },
          "metadata": {},
          "execution_count": 34
        }
      ]
    },
    {
      "cell_type": "markdown",
      "metadata": {
        "id": "hnCiOjOkdhhs"
      },
      "source": [
        "# Limpeza coluna 'Year'"
      ]
    },
    {
      "cell_type": "code",
      "metadata": {
        "colab": {
          "base_uri": "https://localhost:8080/"
        },
        "id": "iQSqBpGSdrxp",
        "outputId": "88c79fd5-b698-424c-b6b5-fac73b61c8b9"
      },
      "source": [
        "# printa os diferentes valores contidos na coluna 'Year'\n",
        "print(df.Year.unique())"
      ],
      "execution_count": 35,
      "outputs": [
        {
          "output_type": "stream",
          "name": "stdout",
          "text": [
            "[ 1992  2014  1948  1952  1994  2002  2006  2008  -182  2016  2000  2012\n",
            "  1996  2004  1980  1984  1988  1960  1964  1972  1936  1924  1912  1932\n",
            "  1920  1968  1976  1998  2010  -670  -248  -825  1928  1956  1908 -2378\n",
            " -1143 -2813 -2491  1904  1906 -1084  1900  1896 -2743 -1114 -1348 -1243\n",
            " -2023  -915 -1224 -2124  -823 -2457 -2793]\n"
          ]
        }
      ]
    },
    {
      "cell_type": "code",
      "metadata": {
        "colab": {
          "base_uri": "https://localhost:8080/"
        },
        "id": "W-8W7djmd_g3",
        "outputId": "1de5dc9f-c082-4c11-e74d-c2596fe584e3"
      },
      "source": [
        "# descricao mostra valores negativos incoerentes\n",
        "df.Year.describe()"
      ],
      "execution_count": 36,
      "outputs": [
        {
          "output_type": "execute_result",
          "data": {
            "text/plain": [
              "count    34535.000000\n",
              "mean      1984.711886\n",
              "std         90.318269\n",
              "min      -2813.000000\n",
              "25%       1972.000000\n",
              "50%       1992.000000\n",
              "75%       2004.000000\n",
              "max       2016.000000\n",
              "Name: Year, dtype: float64"
            ]
          },
          "metadata": {},
          "execution_count": 36
        }
      ]
    },
    {
      "cell_type": "code",
      "metadata": {
        "id": "8mwGkhNud2R1"
      },
      "source": [
        "# remove do dataframe as linhas com anos negativos\n",
        "df = df[df.Year > 0]"
      ],
      "execution_count": 37,
      "outputs": []
    },
    {
      "cell_type": "code",
      "metadata": {
        "colab": {
          "base_uri": "https://localhost:8080/"
        },
        "id": "lPBUMy0vaB0p",
        "outputId": "00818356-eeb7-4c05-f5fc-60488c5f26dd"
      },
      "source": [
        "df.Year.describe()"
      ],
      "execution_count": 74,
      "outputs": [
        {
          "output_type": "execute_result",
          "data": {
            "text/plain": [
              "count    34130.000000\n",
              "mean      1986.628597\n",
              "std         24.182245\n",
              "min       1896.000000\n",
              "25%       1972.000000\n",
              "50%       1992.000000\n",
              "75%       2004.000000\n",
              "max       2016.000000\n",
              "Name: Year, dtype: float64"
            ]
          },
          "metadata": {},
          "execution_count": 74
        }
      ]
    },
    {
      "cell_type": "code",
      "metadata": {
        "colab": {
          "base_uri": "https://localhost:8080/"
        },
        "id": "ONlLBP8DG4bv",
        "outputId": "47f387e2-5873-42b6-f09a-9728d8be0291"
      },
      "source": [
        "# verifica presença de dados faltantes\n",
        "df.Year.isna().sum()"
      ],
      "execution_count": 38,
      "outputs": [
        {
          "output_type": "execute_result",
          "data": {
            "text/plain": [
              "0"
            ]
          },
          "metadata": {},
          "execution_count": 38
        }
      ]
    },
    {
      "cell_type": "markdown",
      "metadata": {
        "id": "BfGtUa06ejPJ"
      },
      "source": [
        "# Limpeza coluna 'Season'"
      ]
    },
    {
      "cell_type": "code",
      "metadata": {
        "colab": {
          "base_uri": "https://localhost:8080/"
        },
        "id": "C-Blb3gQemN_",
        "outputId": "4d2b9c2e-88f3-4c9f-eeac-bad6818069df"
      },
      "source": [
        "# printa os diferentes valores contidos na coluna 'Season'\n",
        "print(df.Season.unique())"
      ],
      "execution_count": 39,
      "outputs": [
        {
          "output_type": "stream",
          "name": "stdout",
          "text": [
            "['Winter' 'Summer' '#ForaBolsonaro' 'Ele não' 'Ele nunca']\n"
          ]
        }
      ]
    },
    {
      "cell_type": "code",
      "metadata": {
        "id": "dowi94ipe0mf"
      },
      "source": [
        "# remove do dataframe os valores incoerentes com a coluna 'Season'\n",
        "df = df[df.Season != '#ForaBolsonaro']\n",
        "df = df[df.Season != 'Ele não']\n",
        "df = df[df.Season != 'Ele nunca']"
      ],
      "execution_count": 40,
      "outputs": []
    },
    {
      "cell_type": "code",
      "metadata": {
        "colab": {
          "base_uri": "https://localhost:8080/"
        },
        "id": "uvnJZSwFfZ8D",
        "outputId": "d1c4974d-c92f-4271-c6dd-820be80169ab"
      },
      "source": [
        "#verifica se a remocao deu certo\n",
        "print(df.Season.unique())"
      ],
      "execution_count": 41,
      "outputs": [
        {
          "output_type": "stream",
          "name": "stdout",
          "text": [
            "['Winter' 'Summer']\n"
          ]
        }
      ]
    },
    {
      "cell_type": "code",
      "metadata": {
        "colab": {
          "base_uri": "https://localhost:8080/"
        },
        "id": "Q8gVMLaaGy2t",
        "outputId": "6767463f-8e72-40ec-fc81-942dd88e3de6"
      },
      "source": [
        "#verifica presenca de dados faltantes\n",
        "df.Season.isna().sum()"
      ],
      "execution_count": 42,
      "outputs": [
        {
          "output_type": "execute_result",
          "data": {
            "text/plain": [
              "0"
            ]
          },
          "metadata": {},
          "execution_count": 42
        }
      ]
    },
    {
      "cell_type": "markdown",
      "metadata": {
        "id": "I8SkECuZfdW4"
      },
      "source": [
        "# Limpeza coluna 'City'"
      ]
    },
    {
      "cell_type": "code",
      "metadata": {
        "colab": {
          "base_uri": "https://localhost:8080/"
        },
        "id": "UtPfzo75fmst",
        "outputId": "b245625c-e27f-4b31-fc55-dcb782b016de"
      },
      "source": [
        "# printa os diferentes valores contidos na coluna 'City'\n",
        "print(df.City.unique())"
      ],
      "execution_count": 43,
      "outputs": [
        {
          "output_type": "stream",
          "name": "stdout",
          "text": [
            "['Albertville' 'Sochi' 'London' 'Helsinki' 'Lillehammer' 'Salt Lake City'\n",
            " 'Torino' 'Beijing' 'Rio de Janeiro' 'Sydney' 'Atlanta' 'Athina' 'Moskva'\n",
            " 'Los Angeles' 'Barcelona' 'Seoul' 'Roma' 'Tokyo' 'Munich' 'Berlin'\n",
            " 'Chamonix' 'Stockholm' 'Paris' 'Antwerpen' 'Calgary' 'Grenoble'\n",
            " 'Montreal' 'Nagano' 'Vancouver' 'Amsterdam' 'Mexico City' 'Melbourne'\n",
            " 'Sapporo' 'Lake Placid' 'Sarajevo' 'Squaw Valley' 'Innsbruck'\n",
            " 'Garmisch-Partenkirchen' \"Cortina d'Ampezzo\" '######' 'Sankt Moritz'\n",
            " 'St. Louis' 'Oslo']\n"
          ]
        }
      ]
    },
    {
      "cell_type": "code",
      "metadata": {
        "id": "xCPmwdP8fwRM"
      },
      "source": [
        "# remove o valor incoerente\n",
        "df = df[df.City != '######']"
      ],
      "execution_count": 44,
      "outputs": []
    },
    {
      "cell_type": "code",
      "metadata": {
        "colab": {
          "base_uri": "https://localhost:8080/"
        },
        "id": "tRy982U4GuR9",
        "outputId": "69641cf1-1486-47c7-c25b-ffccb8eabe90"
      },
      "source": [
        "# verifica existencia de dados faltantes\n",
        "df.City.isna().sum()"
      ],
      "execution_count": 45,
      "outputs": [
        {
          "output_type": "execute_result",
          "data": {
            "text/plain": [
              "0"
            ]
          },
          "metadata": {},
          "execution_count": 45
        }
      ]
    },
    {
      "cell_type": "markdown",
      "metadata": {
        "id": "REpelwJJFa87"
      },
      "source": [
        "# Limpeza coluna 'Sport'"
      ]
    },
    {
      "cell_type": "code",
      "metadata": {
        "colab": {
          "base_uri": "https://localhost:8080/"
        },
        "id": "--tH-W7tFfJm",
        "outputId": "34ceb2da-5ea5-4803-a25b-3fa7f372de96"
      },
      "source": [
        "# printa os diferentes valores contidos na coluna 'Sport'\n",
        "print(df.Sport.unique())"
      ],
      "execution_count": 46,
      "outputs": [
        {
          "output_type": "stream",
          "name": "stdout",
          "text": [
            "['Cross Country Skiing' 'Ice Hockey' 'Gymnastics' 'Alpine Skiing'\n",
            " 'Handball' 'Rowing' 'Fencing' 'Taekwondo' 'Swimming' 'Canoeing'\n",
            " 'Football' 'Water Polo' 'Wrestling' 'Sailing' 'Athletics' 'Cycling'\n",
            " 'Hockey' 'Figure Skating' 'Softball' 'Volleyball' 'Boxing' 'Basketball'\n",
            " 'Diving' 'Freestyle Skiing' 'Baseball' 'Speed Skating' 'Nordic Combined'\n",
            " 'Bobsleigh' 'Modern Pentathlon' 'Curling' 'Judo' 'Tennis' 'Shooting'\n",
            " 'Badminton' 'Rugby Sevens' 'Rhythmic Gymnastics' 'Weightlifting'\n",
            " 'Equestrianism' 'Beach Volleyball' 'Ski Jumping'\n",
            " 'Short Track Speed Skating' 'Archery' 'Biathlon' 'Synchronized Swimming'\n",
            " 'Triathlon' 'Table Tennis' 'Snowboarding' 'Skeleton' 'Luge' 'Rugby'\n",
            " 'Tug-Of-War' 'Trampolining' 'Lacrosse' 'Art Competitions' 'Golf' 'Polo'\n",
            " 'Racquets']\n"
          ]
        }
      ]
    },
    {
      "cell_type": "code",
      "metadata": {
        "colab": {
          "base_uri": "https://localhost:8080/"
        },
        "id": "2G3wjj3KGZTz",
        "outputId": "bc0eed43-1acb-4ea7-a7ac-e48473099cad"
      },
      "source": [
        "# verifica existencia de dados faltantes\n",
        "df.Sport.isna().sum()"
      ],
      "execution_count": 47,
      "outputs": [
        {
          "output_type": "execute_result",
          "data": {
            "text/plain": [
              "0"
            ]
          },
          "metadata": {},
          "execution_count": 47
        }
      ]
    },
    {
      "cell_type": "markdown",
      "metadata": {
        "id": "hrncaV6PF9fb"
      },
      "source": [
        "# Limpeza coluna 'Event'"
      ]
    },
    {
      "cell_type": "code",
      "metadata": {
        "colab": {
          "base_uri": "https://localhost:8080/"
        },
        "id": "MJFkhoX6GCTc",
        "outputId": "157b27ea-70b3-4279-c939-66cc546a32da"
      },
      "source": [
        "# printa os diferentes valores contidos na coluna 'Sport'\n",
        "print(df.Event.unique())"
      ],
      "execution_count": 48,
      "outputs": [
        {
          "output_type": "stream",
          "name": "stdout",
          "text": [
            "[\"Cross Country Skiing Men's 10/15 kilometres Pursuit\"\n",
            " \"Ice Hockey Men's Ice Hockey\" \"Gymnastics Men's Individual All-Around\"\n",
            " \"Gymnastics Men's Team All-Around\" \"Gymnastics Men's Horse Vault\"\n",
            " \"Gymnastics Men's Pommelled Horse\" \"Alpine Skiing Men's Super G\"\n",
            " \"Alpine Skiing Men's Giant Slalom\" \"Alpine Skiing Men's Downhill\"\n",
            " \"Alpine Skiing Men's Combined\" \"Handball Women's Handball\"\n",
            " \"Rowing Men's Coxless Pairs\" \"Fencing Men's epee, Individual\"\n",
            " \"Taekwondo Women's Flyweight\" \"Swimming Men's 100 metres Butterfly\"\n",
            " \"Canoeing Men's Kayak Fours, 1,000 metres\" \"Handball Men's Handball\"\n",
            " \"Football Men's Football\" \"Water Polo Men's Water Polo\"\n",
            " \"Wrestling Men's Featherweight, Freestyle\"\n",
            " 'Sailing Mixed Two Person Heavyweight Dinghy'\n",
            " \"Athletics Men's 1,500 metres\" \"Cycling Women's Sprint\"\n",
            " \"Fencing Men's Sabre, Team\" \"Rowing Men's Quadruple Sculls\"\n",
            " \"Rowing Men's Double Sculls\" \"Rowing Men's Coxed Pairs\"\n",
            " \"Hockey Men's Hockey\" 'Figure Skating Mixed Team'\n",
            " \"Softball Women's Softball\" \"Taekwondo Women's Featherweight\"\n",
            " \"Wrestling Men's Middleweight, Greco-Roman\"\n",
            " \"Swimming Women's 4 x 100 metres Medley Relay\"\n",
            " \"Volleyball Women's Volleyball\" \"Boxing Men's Light-Welterweight\"\n",
            " \"Wrestling Men's Super-Heavyweight, Greco-Roman\"\n",
            " \"Wrestling Men's Flyweight, Freestyle\"\n",
            " \"Wrestling Men's Bantamweight, Freestyle\" \"Basketball Men's Basketball\"\n",
            " \"Boxing Men's Middleweight\"\n",
            " \"Wrestling Men's Light-Heavyweight, Freestyle\"\n",
            " \"Athletics Men's Hammer Throw\" \"Gymnastics Women's Team All-Around\"\n",
            " \"Diving Women's Synchronized Springboard\"\n",
            " \"Gymnastics Women's Floor Exercise\" \"Athletics Men's Marathon\"\n",
            " \"Freestyle Skiing Men's Moguls\" \"Athletics Men's Long Jump\"\n",
            " \"Athletics Men's Triple Jump\" \"Baseball Men's Baseball\"\n",
            " \"Athletics Women's 5,000 metres\"\n",
            " \"Wrestling Men's Middleweight, Freestyle\" \"Football Women's Football\"\n",
            " \"Athletics Men's 4 x 400 metres Relay\" \"Gymnastics Men's Floor Exercise\"\n",
            " \"Gymnastics Men's Rings\" \"Swimming Men's 4 x 100 metres Freestyle Relay\"\n",
            " \"Swimming Men's 4 x 200 metres Freestyle Relay\"\n",
            " \"Fencing Men's Foil, Individual\" \"Athletics Men's Decathlon\"\n",
            " \"Canoeing Men's Kayak Doubles, 500 metres\"\n",
            " \"Swimming Men's 4 x 100 metres Medley Relay\"\n",
            " \"Wrestling Men's Light-Heavyweight, Greco-Roman\"\n",
            " \"Athletics Men's 100 metres\" \"Athletics Men's 4 x 100 metres Relay\"\n",
            " \"Athletics Women's Shot Put\" \"Volleyball Men's Volleyball\"\n",
            " \"Speed Skating Women's Team Pursuit (6 laps)\"\n",
            " \"Swimming Men's 50 metres Freestyle\" \"Basketball Women's Basketball\"\n",
            " \"Wrestling Men's Lightweight, Freestyle\"\n",
            " \"Cycling Men's Mountainbike, Cross-Country\"\n",
            " \"Taekwondo Men's Featherweight\" \"Gymnastics Women's Horse Vault\"\n",
            " \"Fencing Men's epee, Team\" \"Alpine Skiing Men's Slalom\"\n",
            " \"Boxing Men's Welterweight\" \"Athletics Men's 200 metres\"\n",
            " \"Wrestling Men's Flyweight, Greco-Roman\"\n",
            " \"Cycling Men's 100 kilometres Team Time Trial\"\n",
            " \"Boxing Men's Featherweight\" \"Boxing Men's Bantamweight\"\n",
            " \"Cross Country Skiing Women's 3 x 5 kilometres Relay\"\n",
            " \"Nordic Combined Men's Team\" \"Nordic Combined Men's Sprint\"\n",
            " \"Bobsleigh Men's Two\" \"Bobsleigh Men's Four\" \"Boxing Men's Heavyweight\"\n",
            " \"Boxing Men's Lightweight\" \"Modern Pentathlon Men's Team\"\n",
            " \"Curling Men's Curling\" \"Judo Men's Half-Lightweight\"\n",
            " \"Athletics Men's Standing High Jump\" \"Athletics Men's Standing Long Jump\"\n",
            " \"Tennis Men's Doubles\" \"Judo Men's Lightweight\"\n",
            " \"Judo Men's Half-Middleweight\" \"Boxing Women's Flyweight\"\n",
            " \"Athletics Women's 100 metres Hurdles\"\n",
            " \"Shooting Men's Free Pistol, 50 metres\" \"Curling Women's Curling\"\n",
            " \"Rowing Men's Coxed Eights\" 'Badminton Mixed Doubles'\n",
            " \"Speed Skating Men's 500 metres\" \"Athletics Men's 400 metres Hurdles\"\n",
            " \"Rugby Sevens Men's Rugby Sevens\"\n",
            " \"Canoeing Men's Canadian Doubles, Slalom\"\n",
            " 'Sailing Mixed Three Person Keelboat'\n",
            " \"Swimming Women's 800 metres Freestyle\" \"Athletics Men's High Jump\"\n",
            " \"Swimming Men's 100 metres Freestyle\"\n",
            " \"Athletics Women's 4 x 400 metres Relay\"\n",
            " \"Rowing Women's Coxed Quadruple Sculls\" \"Rowing Men's Coxless Fours\"\n",
            " \"Tennis Men's Singles\" \"Judo Women's Half-Middleweight\"\n",
            " \"Hockey Women's Hockey\" \"Swimming Men's 200 metres Freestyle\"\n",
            " \"Ice Hockey Women's Ice Hockey\" 'Figure Skating Mixed Ice Dancing'\n",
            " \"Fencing Women's Foil, Team\" \"Rowing Women's Single Sculls\"\n",
            " \"Rhythmic Gymnastics Women's Group\" \"Weightlifting Women's Flyweight\"\n",
            " 'Equestrianism Mixed Jumping, Team'\n",
            " \"Beach Volleyball Men's Beach Volleyball\"\n",
            " \"Swimming Women's 4 x 100 metres Freestyle Relay\"\n",
            " \"Swimming Women's 100 metres Butterfly\"\n",
            " \"Cross Country Skiing Men's 10 kilometres\"\n",
            " \"Ski Jumping Men's Large Hill, Team\" \"Rowing Women's Coxed Eights\"\n",
            " \"Athletics Women's Javelin Throw\" \"Athletics Men's 800 metres\"\n",
            " \"Water Polo Women's Water Polo\" \"Canoeing Men's Kayak Singles, Slalom\"\n",
            " 'Sailing Mixed One Person Dinghy' \"Sailing Men's One Person Dinghy\"\n",
            " \"Sailing Men's One Person Heavyweight Dinghy\" \"Sailing Women's Skiff\"\n",
            " \"Athletics Men's 5,000 metres\" 'Sailing Mixed 5.5 metres'\n",
            " \"Cycling Men's Team Pursuit, 4,000 metres\" \"Cycling Men's Madison\"\n",
            " \"Shooting Men's Small-Bore Rifle, Prone, 50 metres\"\n",
            " \"Ski Jumping Men's Normal Hill, Individual\" \"Athletics Women's Long Jump\"\n",
            " \"Short Track Speed Skating Men's 5,000 metres Relay\"\n",
            " \"Archery Men's Individual\" \"Wrestling Men's Super-Heavyweight, Freestyle\"\n",
            " \"Biathlon Women's 4 x 7.5 kilometres Relay\"\n",
            " \"Biathlon Women's 10 kilometres Pursuit\" \"Biathlon Women's 15 kilometres\"\n",
            " \"Fencing Men's Foil, Team\" \"Wrestling Men's Heavyweight, Freestyle\"\n",
            " \"Athletics Women's 4 x 100 metres Relay\"\n",
            " \"Weightlifting Men's Middle-Heavyweight\" \"Fencing Women's Sabre, Team\"\n",
            " \"Athletics Women's 400 metres Hurdles\"\n",
            " \"Shooting Women's Small-Bore Rifle, Three Positions, 50 metres\"\n",
            " 'Sailing Mixed Two Person Keelboat' \"Shooting Men's Skeet\"\n",
            " \"Shooting Men's Double Trap\" \"Shooting Men's Trap\"\n",
            " 'Equestrianism Mixed Jumping, Individual' \"Athletics Women's 100 metres\"\n",
            " \"Athletics Men's 400 metres\"\n",
            " \"Shooting Men's Rapid-Fire Pistol, 25 metres\"\n",
            " \"Swimming Men's 200 metres Butterfly\"\n",
            " \"Shooting Men's Air Rifle, 10 metres\"\n",
            " \"Swimming Men's 200 metres Individual Medley\"\n",
            " \"Cycling Men's Individual Time Trial\"\n",
            " \"Cross Country Skiing Men's 4 x 10 kilometres Relay\"\n",
            " \"Weightlifting Men's Super-Heavyweight\" \"Badminton Women's Singles\"\n",
            " \"Speed Skating Women's 1,000 metres\"\n",
            " \"Cross Country Skiing Women's 4 x 5 kilometres Relay\"\n",
            " \"Sailing Women's Two Person Dinghy\" \"Athletics Men's Discus Throw\"\n",
            " \"Rowing Women's Double Sculls\" \"Wrestling Men's Heavyweight, Greco-Roman\"\n",
            " \"Diving Women's Platform\" \"Synchronized Swimming Women's Team\"\n",
            " \"Wrestling Men's Light-Flyweight, Greco-Roman\" \"Diving Men's Platform\"\n",
            " \"Taekwondo Men's Heavyweight\"\n",
            " 'Equestrianism Mixed Three-Day Event, Individual'\n",
            " \"Shooting Men's Small-Bore Rifle, Three Positions, 50 metres\"\n",
            " \"Athletics Men's Shot Put\"\n",
            " \"Short Track Speed Skating Women's 3,000 metres Relay\"\n",
            " \"Rugby Sevens Women's Rugby Sevens\" \"Triathlon Women's Olympic Distance\"\n",
            " \"Figure Skating Men's Singles\" \"Modern Pentathlon Women's Individual\"\n",
            " 'Equestrianism Mixed Three-Day Event, Team'\n",
            " \"Athletics Men's Cross-Country, Team\" \"Boxing Men's Flyweight\"\n",
            " \"Cross Country Skiing Men's 30 kilometres\"\n",
            " \"Cross Country Skiing Men's 10/10 kilometres Pursuit\"\n",
            " \"Swimming Women's 50 metres Freestyle\"\n",
            " \"Swimming Women's 100 metres Freestyle\" \"Fencing Men's Sabre, Individual\"\n",
            " \"Canoeing Men's Canadian Doubles, 1,000 metres\"\n",
            " \"Athletics Men's Pole Vault\" \"Rowing Women's Coxless Pairs\"\n",
            " \"Athletics Men's 10 kilometres Walk\"\n",
            " \"Swimming Men's 200 metres Breaststroke\" \"Judo Women's Middleweight\"\n",
            " \"Boxing Men's Super-Heavyweight\" \"Swimming Men's 100 metres Breaststroke\"\n",
            " \"Cross Country Skiing Men's Team Sprint\" 'Shooting Mixed Skeet'\n",
            " \"Boxing Men's Light-Heavyweight\"\n",
            " \"Gymnastics Women's Individual All-Around\"\n",
            " \"Rowing Men's Lightweight Coxless Fours\"\n",
            " \"Sailing Women's One Person Dinghy\"\n",
            " \"Ski Jumping Men's Large Hill, Individual\" \"Athletics Women's Pole Vault\"\n",
            " \"Athletics Women's 400 metres\"\n",
            " \"Wrestling Men's Featherweight, Greco-Roman\"\n",
            " \"Wrestling Women's Lightweight, Freestyle\"\n",
            " \"Swimming Women's 200 metres Freestyle\"\n",
            " \"Canoeing Men's Canadian Singles, 1,000 metres\"\n",
            " \"Wrestling Men's Bantamweight, Greco-Roman\" \"Table Tennis Men's Doubles\"\n",
            " \"Judo Women's Half-Lightweight\"\n",
            " \"Short Track Speed Skating Men's 500 metres\"\n",
            " \"Short Track Speed Skating Men's 1,000 metres\"\n",
            " \"Short Track Speed Skating Men's 1,500 metres\"\n",
            " \"Canoeing Men's Canadian Doubles, 500 metres\" \"Judo Women's Heavyweight\"\n",
            " \"Nordic Combined Men's Individual\"\n",
            " \"Athletics Men's 3,000 metres Steeplechase\"\n",
            " \"Speed Skating Men's 1,500 metres\" \"Athletics Women's Marathon\"\n",
            " \"Swimming Women's 4 x 200 metres Freestyle Relay\"\n",
            " \"Shooting Men's Free Rifle, Three Positions, 300 metres\"\n",
            " 'Shooting Mixed Free Rifle, Three Positions, 300 metres'\n",
            " \"Cycling Men's Individual Pursuit, 4,000 metres\"\n",
            " \"Swimming Women's 10 kilometres Open Water\"\n",
            " \"Snowboarding Women's Slopestyle\"\n",
            " \"Snowboarding Men's Parallel Giant Slalom\"\n",
            " \"Weightlifting Men's Heavyweight\" 'Sailing Mixed Multihull'\n",
            " \"Athletics Men's 110 metres Hurdles\"\n",
            " \"Canoeing Women's Kayak Singles, 500 metres\"\n",
            " \"Canoeing Women's Kayak Doubles, 500 metres\"\n",
            " \"Canoeing Women's Kayak Fours, 500 metres\"\n",
            " \"Athletics Men's Cross-Country, Individual\"\n",
            " \"Canoeing Men's Kayak Doubles, 1,000 metres\"\n",
            " \"Biathlon Men's 4 x 7.5 kilometres Relay\"\n",
            " \"Cross Country Skiing Women's Team Sprint\"\n",
            " \"Weightlifting Men's Bantamweight\" \"Weightlifting Women's Lightweight\"\n",
            " \"Biathlon Men's 10 kilometres Sprint\"\n",
            " \"Swimming Women's 100 metres Backstroke\"\n",
            " \"Athletics Men's 20 kilometres Walk\" \"Alpine Skiing Women's Giant Slalom\"\n",
            " \"Gymnastics Men's Parallel Bars\" \"Gymnastics Men's Horizontal Bar\"\n",
            " \"Athletics Women's Discus Throw\"\n",
            " \"Speed Skating Men's Team Pursuit (8 laps)\"\n",
            " \"Biathlon Men's 20 kilometres\" \"Cross Country Skiing Men's 15 kilometres\"\n",
            " \"Cross Country Skiing Men's 30 km Skiathlon\" \"Rowing Women's Coxed Fours\"\n",
            " \"Swimming Women's 100 metres Breaststroke\"\n",
            " \"Judo Women's Half-Heavyweight\"\n",
            " \"Canoeing Men's Kayak Singles, 1,000 metres\"\n",
            " \"Cross Country Skiing Men's Sprint\" \"Snowboarding Women's Boardercross\"\n",
            " \"Athletics Men's 10,000 metres\" \"Biathlon Men's 12.5 kilometres Pursuit\"\n",
            " \"Skeleton Men's Skeleton\" 'Luge Mixed Team Relay'\n",
            " \"Biathlon Women's 7.5 kilometres Sprint\"\n",
            " \"Wrestling Men's Lightweight, Greco-Roman\"\n",
            " \"Weightlifting Men's Middleweight\" \"Table Tennis Men's Singles\"\n",
            " \"Athletics Men's 50 kilometres Walk\" \"Figure Skating Women's Singles\"\n",
            " \"Rugby Men's Rugby\" \"Boxing Women's Lightweight\"\n",
            " \"Cycling Women's Team Pursuit\" \"Athletics Women's 200 metres\"\n",
            " \"Athletics Women's 1,500 metres\" \"Diving Women's Springboard\"\n",
            " 'Sailing Mixed 10 metres' \"Boxing Men's Light-Flyweight\"\n",
            " \"Badminton Men's Doubles\" \"Athletics Women's High Jump\"\n",
            " \"Luge Mixed (Men)'s Doubles\" \"Cycling Women's Road Race, Individual\"\n",
            " \"Swimming Men's 400 metres Freestyle\"\n",
            " \"Cycling Women's Individual Time Trial\" 'Sailing Mixed 6 metres'\n",
            " 'Sailing Mixed Windsurfer' 'Sailing Mixed Skiff' \"Archery Women's Team\"\n",
            " \"Weightlifting Men's Light-Heavyweight\" \"Gymnastics Women's Balance Beam\"\n",
            " \"Wrestling Men's Welterweight, Greco-Roman\"\n",
            " \"Judo Men's Extra-Lightweight\" \"Judo Men's Middleweight\"\n",
            " \"Sailing Men's Windsurfer\" \"Athletics Women's 3,000 metres Steeplechase\"\n",
            " \"Gymnastics Women's Team Portable Apparatus\"\n",
            " \"Gymnastics Women's Uneven Bars\"\n",
            " \"Shooting Women's Sporting Pistol, 25 metres\"\n",
            " \"Wrestling Men's Welterweight, Freestyle\"\n",
            " \"Swimming Women's 200 metres Backstroke\"\n",
            " \"Speed Skating Women's 500 metres\" \"Rowing Men's Coxed Fours\"\n",
            " 'Shooting Mixed Small-Bore Rifle, Prone, 50 metres'\n",
            " \"Cross Country Skiing Women's 10 kilometres\"\n",
            " \"Cycling Men's Road Race, Individual\"\n",
            " \"Cross Country Skiing Women's 5 kilometres\"\n",
            " \"Speed Skating Women's 1,500 metres\" \"Speed Skating Women's 3,000 metres\"\n",
            " \"Archery Women's Individual\" \"Shooting Men's Running Target, 50 metres\"\n",
            " \"Canoeing Men's Canadian Singles, Slalom\" \"Cycling Men's Keirin\"\n",
            " \"Badminton Men's Singles\" \"Canoeing Men's Kayak Doubles, 10,000 metres\"\n",
            " \"Athletics Women's 10,000 metres\" \"Sailing Women's Three Person Keelboat\"\n",
            " \"Tennis Women's Singles\" 'Tennis Mixed Doubles'\n",
            " \"Weightlifting Men's Lightweight\" \"Fencing Women's epee, Team\"\n",
            " \"Rowing Men's Lightweight Double Sculls\"\n",
            " \"Swimming Women's 200 metres Breaststroke\"\n",
            " \"Swimming Women's 400 metres Freestyle\"\n",
            " \"Synchronized Swimming Women's Solo\"\n",
            " \"Shooting Men's Air Pistol, 10 metres\" \"Athletics Men's Javelin Throw\"\n",
            " \"Athletics Men's 3,000 metres, Team\" \"Shooting Women's Skeet\"\n",
            " \"Tennis Women's Doubles\" \"Cross Country Skiing Men's 50 kilometres\"\n",
            " \"Canoeing Men's Kayak Singles, 500 metres\"\n",
            " \"Canoeing Women's Kayak Singles, Slalom\"\n",
            " \"Freestyle Skiing Women's Moguls\" \"Cycling Men's BMX\"\n",
            " 'Shooting Mixed Trap' \"Biathlon Women's 4 x 6 kilometres Relay\"\n",
            " \"Freestyle Skiing Women's Slopestyle\" \"Bobsleigh Women's Two\"\n",
            " \"Rowing Women's Quadruple Sculls\" \"Diving Men's Springboard\"\n",
            " \"Modern Pentathlon Men's Individual\" \"Boxing Men's Light-Middleweight\"\n",
            " 'Equestrianism Mixed Dressage, Individual'\n",
            " 'Equestrianism Mixed Dressage, Team'\n",
            " \"Cycling Women's 500 metres Time Trial\"\n",
            " \"Speed Skating Men's 5,000 metres\" \"Speed Skating Men's 10,000 metres\"\n",
            " \"Shooting Men's Free Rifle, Three Positions, 300 metres, Team\"\n",
            " \"Shooting Women's Trap\" \"Swimming Men's 200 metres Backstroke\"\n",
            " \"Athletics Women's Pentathlon\"\n",
            " \"Beach Volleyball Women's Beach Volleyball\"\n",
            " \"Swimming Women's 400 metres Individual Medley\"\n",
            " \"Fencing Women's epee, Individual\" \"Rowing Women's Coxless Fours\"\n",
            " \"Diving Men's Synchronized Springboard\"\n",
            " \"Swimming Men's 100 metres Backstroke\" \"Sailing Men's Two Person Dinghy\"\n",
            " \"Tug-Of-War Men's Tug-Of-War\" \"Archery Men's Team\"\n",
            " \"Shooting Women's Air Rifle, 10 metres\" \"Judo Men's Half-Heavyweight\"\n",
            " \"Synchronized Swimming Women's Duet\" \"Taekwondo Women's Heavyweight\"\n",
            " \"Gymnastics Men's Rope Climbing\"\n",
            " 'Shooting Mixed Small-Bore Rifle, Three Positions, 50 metres'\n",
            " \"Shooting Women's Air Pistol, 10 metres\"\n",
            " \"Swimming Men's 400 metres Individual Medley\"\n",
            " \"Rhythmic Gymnastics Women's Individual\"\n",
            " \"Weightlifting Women's Middleweight\" \"Fencing Women's Foil, Individual\"\n",
            " \"Nordic Combined Men's Normal Hill / 10 km, Individual\"\n",
            " \"Cross Country Skiing Women's 5/5 kilometres Pursuit\"\n",
            " \"Cycling Men's Team Sprint\" \"Cycling Men's Sprint\"\n",
            " 'Figure Skating Mixed Pairs' \"Freestyle Skiing Men's Aerials\"\n",
            " \"Swimming Women's 200 metres Individual Medley\"\n",
            " \"Canoeing Men's Kayak Singles, 200 metres\"\n",
            " \"Swimming Men's 1,500 metres Freestyle\" \"Diving Women's Plain High\"\n",
            " \"Speed Skating Women's 5,000 metres\"\n",
            " \"Biathlon Women's 3 x 7.5 kilometres Relay\"\n",
            " \"Athletics Women's Heptathlon\"\n",
            " \"Cycling Men's Tandem Sprint, 2,000 metres\"\n",
            " \"Taekwondo Men's Welterweight\" \"Rowing Women's Lightweight Double Sculls\"\n",
            " 'Shooting Mixed Running Target, 50 metres'\n",
            " \"Cycling Women's Individual Pursuit, 3,000 metres\"\n",
            " \"Cycling Women's Points Race\"\n",
            " \"Cross Country Skiing Women's 30 kilometres\"\n",
            " \"Cross Country Skiing Women's 5/10 kilometres Pursuit\"\n",
            " \"Cross Country Skiing Women's 15 kilometres\"\n",
            " \"Swimming Women's 200 metres Butterfly\" \"Judo Men's Heavyweight\"\n",
            " \"Canoeing Men's Canadian Singles, 200 metres\"\n",
            " \"Weightlifting Men's Featherweight\"\n",
            " \"Diving Women's Synchronized Platform\" \"Athletics Women's 800 metres\"\n",
            " \"Triathlon Men's Olympic Distance\" \"Alpine Skiing Women's Super G\"\n",
            " 'Biathlon Mixed 2 x 6 kilometres and 2 x 7.5 kilometres Relay'\n",
            " \"Judo Women's Extra-Lightweight\" \"Freestyle Skiing Women's Ski Cross\"\n",
            " \"Sailing Women's Windsurfer\" \"Athletics Men's Pentathlon\"\n",
            " \"Alpine Skiing Women's Downhill\"\n",
            " \"Nordic Combined Men's Large Hill / 10 km, Individual\"\n",
            " \"Skeleton Women's Skeleton\"\n",
            " \"Shooting Men's Military Rifle, 200, 400, 500 and 600 metres, Team\"\n",
            " \"Sailing Men's Two Person Keelboat\" \"Cross Country Skiing Women's Sprint\"\n",
            " \"Cross Country Skiing Women's 15 km Skiathlon\"\n",
            " \"Equestrianism Men's Three-Day Event, Team\"\n",
            " \"Biathlon Men's 15 kilometres Mass Start\"\n",
            " \"Snowboarding Women's Parallel Giant Slalom\"\n",
            " \"Cycling Men's Road Race, Team\" \"Weightlifting Men's Heavyweight I\"\n",
            " \"Athletics Women's 80 metres Hurdles\"\n",
            " \"Cycling Women's Mountainbike, Cross-Country\"\n",
            " \"Snowboarding Women's Halfpipe\"\n",
            " \"Shooting Men's Running Target, 10 metres\" \"Luge Women's Singles\"\n",
            " 'Sailing Mixed Two Person Dinghy' \"Snowboarding Men's Boardercross\"\n",
            " \"Table Tennis Men's Team\" \"Athletics Men's 1,500 metres Walk\"\n",
            " \"Athletics Men's 3 mile, Team\" \"Judo Women's Lightweight\"\n",
            " \"Luge Men's Singles\" \"Shooting Men's Trap, Team\"\n",
            " \"Alpine Skiing Women's Combined\" \"Judo Men's Open Class\"\n",
            " \"Speed Skating Men's 1,000 metres\" \"Diving Men's Synchronized Platform\"\n",
            " \"Short Track Speed Skating Women's 500 metres\"\n",
            " \"Freestyle Skiing Men's Ski Cross\" \"Freestyle Skiing Women's Halfpipe\"\n",
            " \"Freestyle Skiing Men's Halfpipe\"\n",
            " \"Gymnastics Men's Individual All-Around, 5 Events\"\n",
            " \"Athletics Men's 1,600 metres Medley Relay\"\n",
            " \"Cross Country Skiing Men's 18 kilometres\"\n",
            " \"Freestyle Skiing Women's Aerials\" \"Rowing Men's Single Sculls\"\n",
            " \"Archery Men's Team Round\"\n",
            " \"Equestrianism Men's Three-Day Event, Individual\"\n",
            " \"Canoeing Men's Canadian Singles, 500 metres\"\n",
            " \"Wrestling Women's Heavyweight, Freestyle\"\n",
            " \"Cycling Men's 1,000 metres Time Trial\" \"Sailing Men's Skiff\"\n",
            " \"Trampolining Men's Individual\" \"Lacrosse Men's Lacrosse\"\n",
            " \"Weightlifting Men's Unlimited, One Hand\"\n",
            " \"Weightlifting Women's Heavyweight\"\n",
            " \"Equestrianism Men's Jumping, Individual\"\n",
            " \"Equestrianism Men's Jumping, Team\"\n",
            " \"Shooting Men's Small-Bore Rifle, 50 and 100 yards, Team\"\n",
            " \"Shooting Men's Free Pistol, 50 metres, Team\"\n",
            " \"Shooting Men's Dueling Pistol, 30 metres, Team\"\n",
            " \"Shooting Men's Small-Bore Rifle, Prone, 50 metres, Team\"\n",
            " \"Shooting Men's Small-Bore Rifle, Disappearing Target, 25 metres, Team\"\n",
            " \"Weightlifting Men's Heavyweight II\" 'Sailing Mixed 6.5 metres'\n",
            " \"Canoeing Women's Kayak Singles, 200 metres\" \"Cycling Men's Omnium\"\n",
            " \"Alpine Skiing Women's Slalom\" \"Athletics Women's 3,000 metres\"\n",
            " \"Table Tennis Women's Singles\" \"Table Tennis Women's Doubles\"\n",
            " \"Athletics Women's 10 kilometres Walk\"\n",
            " \"Weightlifting Women's Featherweight\"\n",
            " \"Short Track Speed Skating Women's 1,500 metres\"\n",
            " \"Freestyle Skiing Men's Slopestyle\" \"Taekwondo Men's Flyweight\"\n",
            " \"Wrestling Women's Flyweight, Freestyle\" \"Weightlifting Men's Flyweight\"\n",
            " \"Trampolining Women's Individual\"\n",
            " \"Weightlifting Women's Light-Heavyweight\"\n",
            " \"Shooting Men's Military Rifle, Any Position, 600 metres\"\n",
            " \"Shooting Men's Free Rifle, 400, 600 and 800 metres, Team\"\n",
            " 'Art Competitions Mixed Painting, Unknown Event'\n",
            " \"Snowboarding Men's Giant Slalom\"\n",
            " \"Canoeing Men's Kayak Doubles, 200 metres\"\n",
            " \"Athletics Women's Hammer Throw\"\n",
            " \"Athletics Men's 2,590 metres Steeplechase\"\n",
            " \"Swimming Men's 50 yard Freestyle\" \"Swimming Men's 100 yard Freestyle\"\n",
            " \"Swimming Men's 220 yard Freestyle\" \"Swimming Men's 440 yard Freestyle\"\n",
            " \"Swimming Men's 4 x 50 Yard Freestyle Relay\"\n",
            " \"Swimming Men's 10 kilometres Open Water\"\n",
            " \"Athletics Men's 56-pound Weight Throw\" \"Athletics Women's Triple Jump\"\n",
            " \"Cycling Women's Omnium\" \"Weightlifting Women's Super-Heavyweight\"\n",
            " \"Table Tennis Women's Team\" \"Biathlon Women's 12.5 kilometres Mass Start\"\n",
            " 'Sailing Mixed 8 metres' \"Wrestling Men's Light-Flyweight, Freestyle\"\n",
            " 'Shooting Mixed Free Pistol, 50 metres' \"Athletics Men's Stone Throw\"\n",
            " \"Athletics Men's Javelin Throw, Freestyle\"\n",
            " \"Wrestling Women's Light-Heavyweight, Freestyle\"\n",
            " \"Badminton Women's Doubles\" \"Snowboarding Women's Parallel Slalom\"\n",
            " 'Shooting Mixed Rapid-Fire Pistol, 25 metres'\n",
            " \"Canoeing Men's Folding Kayak Singles, 10 kilometres\" \"Golf Men's Team\"\n",
            " \"Athletics Men's 3,200 metres Steeplechase\"\n",
            " \"Weightlifting Men's Unlimited, Two Hands\"\n",
            " \"Taekwondo Women's Welterweight\"\n",
            " \"Shooting Men's Military Rifle, Prone, 600 metres\"\n",
            " \"Shooting Men's Military Rifle, Prone, 600 metres, Team\"\n",
            " \"Shooting Men's Military Rifle, Standing, 300 metres, Team\"\n",
            " \"Diving Men's Plain High\" \"Athletics Men's Standing Triple Jump\"\n",
            " \"Gymnastics Men's Individual All-Around, 4 Events\"\n",
            " \"Gymnastics Men's Side Horse\"\n",
            " \"Short Track Speed Skating Women's 1,000 metres\"\n",
            " \"Canoeing Men's Canadian Doubles, 10,000 metres\"\n",
            " \"Golf Women's Individual\"\n",
            " \"Shooting Men's Small-Bore Rifle, Standing, 50 metres\"\n",
            " \"Shooting Men's Small Bore-Rifle, Standing, 50 metres, Team\"\n",
            " \"Shooting Men's Running Target, Single Shot, Team\"\n",
            " \"Boxing Women's Middleweight\" \"Snowboarding Men's Halfpipe\"\n",
            " \"Shooting Men's Military Pistol, Team\"\n",
            " \"Canoeing Men's Kayak Singles, 10,000 metres\"\n",
            " \"Athletics Men's 3,000 metres Walk\" \"Cycling Men's Points Race\"\n",
            " \"Shooting Women's Double Trap\"\n",
            " \"Athletics Men's Discus Throw, Greek Style\" \"Cycling Women's Team Sprint\"\n",
            " 'Art Competitions Mixed Literature'\n",
            " \"Athletics Women's 20 kilometres Walk\"\n",
            " \"Ski Jumping Women's Normal Hill, Individual\" \"Bobsleigh Men's Four/Five\"\n",
            " \"Fencing Women's Sabre, Individual\"\n",
            " \"Gymnastics Men's Individual All-Around, Field Sports\"\n",
            " \"Cycling Women's Keirin\" \"Athletics Men's 60 metres\"\n",
            " \"Canoeing Men's Kayak Relay 4 x 500 metres\"\n",
            " \"Athletics Men's All-Around Championship\" \"Polo Men's Polo\"\n",
            " \"Athletics Men's 4 mile, Team\"\n",
            " \"Canoeing Men's Canadian Singles, 10,000 metres\" \"Cycling Women's BMX\"\n",
            " \"Rowing Men's Coxed Fours, Inriggers\"\n",
            " \"Athletics Men's 200 metres Hurdles\"\n",
            " \"Shooting Men's Small-Bore Rifle, Any Position, 50 metres\"\n",
            " 'Art Competitions Mixed Architecture, Architectural Designs'\n",
            " \"Cycling Men's 1/4 mile\" \"Cycling Men's 1/3 mile\"\n",
            " \"Cycling Men's 1/2 mile\" \"Cycling Men's 1 mile\" \"Cycling Men's 2 mile\"\n",
            " \"Wrestling Women's Middleweight, Freestyle\"\n",
            " \"Shooting Men's Military Rifle, Prone, 300 metres, Team\"\n",
            " \"Shooting Men's Military Rifle, 300 metres and 600 metres, Prone, Team\"\n",
            " \"Cross Country Skiing Women's 20 kilometres\"\n",
            " \"Shooting Men's Military Rifle, Prone, 300 metres\"\n",
            " \"Golf Men's Individual\" \"Snowboarding Men's Parallel Slalom\"\n",
            " \"Athletics Men's 3,500 metres Walk\"\n",
            " \"Fencing Men's Foil, Masters, Individual\"\n",
            " \"Wrestling Men's Middleweight A, Greco-Roman\"\n",
            " \"Snowboarding Women's Giant Slalom\" 'Sailing Mixed 12 metres'\n",
            " \"Snowboarding Men's Slopestyle\"\n",
            " \"Weightlifting Men's All-Around Dumbbell Contest\"\n",
            " \"Athletics Men's 10 mile Walk\"\n",
            " \"Gymnastics Men's Individual All-Around, Apparatus Work\"\n",
            " \"Athletics Men's Discus Throw, Both Hands\"\n",
            " \"Wrestling Women's Featherweight, Freestyle\"\n",
            " \"Athletics Men's Shot Put, Both Hands\"\n",
            " \"Athletics Men's Pentathlon (Ancient)\"\n",
            " \"Gymnastics Men's Team All-Around, Swedish System\"\n",
            " \"Athletics Men's 2,500 metres Steeplechase\"\n",
            " \"Shooting Men's Military Rifle, Three Positions, 300 metres\"\n",
            " \"Shooting Men's Military Rifle, Standing, 300 metres\"\n",
            " \"Shooting Men's Free Rifle, Prone, 600 metres\" \"Athletics Men's 5 mile\"\n",
            " \"Shooting Men's Free Rifle, Prone, 300 metres\"\n",
            " \"Athletics Men's Javelin Throw, Both Hands\" \"Racquets Men's Doubles\"\n",
            " \"Athletics Men's 5,000 metres, Team\"\n",
            " \"Shooting Men's Military Rifle, 1873-1874 Gras Model, Kneeling Or Standing, 200 metres\"\n",
            " \"Shooting Men's Military Rifle, Kneeling Or Standing, 300 metres\"\n",
            " \"Cycling Men's 5,000 metres\" \"Swimming Women's 300 metres Freestyle\"\n",
            " \"Gymnastics Men's Parallel Bars, Teams\"\n",
            " \"Wrestling Men's Unlimited Class, Greco-Roman\"\n",
            " \"Gymnastics Men's Horizontal Bar, Teams\"\n",
            " \"Equestrianism Men's Dressage, Team\"\n",
            " \"Shooting Men's Free Rifle, Kneeling, 300 metres\"\n",
            " \"Shooting Men's Free Rifle, Any Position, 300 metres\"\n",
            " \"Swimming Men's One Mile Freestyle\"\n",
            " \"Swimming Men's 4 x 250 metres Freestyle Relay\"\n",
            " \"Speed Skating Men's Allround\" \"Fencing Men's Single Sticks, Individual\"\n",
            " \"Swimming Men's 1,000 metres Freestyle\"\n",
            " \"Swimming Men's 4,000 metres Freestyle\"\n",
            " \"Wrestling Men's All-Around, Greco-Roman\"\n",
            " \"Tennis Men's Singles, Covered Courts\" \"Cycling Men's 5 mile\"\n",
            " \"Cycling Men's 25 mile\"]\n"
          ]
        }
      ]
    },
    {
      "cell_type": "code",
      "metadata": {
        "colab": {
          "base_uri": "https://localhost:8080/"
        },
        "id": "REUrq5WpJOAn",
        "outputId": "edfb1e25-ef55-4203-81ae-cb681cd916cd"
      },
      "source": [
        "# verifica existencia de dados faltantes\n",
        "df.Event.isna().sum()"
      ],
      "execution_count": 49,
      "outputs": [
        {
          "output_type": "execute_result",
          "data": {
            "text/plain": [
              "0"
            ]
          },
          "metadata": {},
          "execution_count": 49
        }
      ]
    },
    {
      "cell_type": "markdown",
      "metadata": {
        "id": "2QJm2ec3Hogu"
      },
      "source": [
        "# Limpeza coluna 'Medal'"
      ]
    },
    {
      "cell_type": "code",
      "metadata": {
        "colab": {
          "base_uri": "https://localhost:8080/"
        },
        "id": "2AHt2_IXHymh",
        "outputId": "5b6280c1-569d-4c60-b76d-9c64bf492eeb"
      },
      "source": [
        "# printa os diferentes valores contidos na coluna 'Medal'\n",
        "print(df.Medal.unique())"
      ],
      "execution_count": 50,
      "outputs": [
        {
          "output_type": "stream",
          "name": "stdout",
          "text": [
            "[nan 'Bronze' 'Gold' 'Silver' 'Nelson']\n"
          ]
        }
      ]
    },
    {
      "cell_type": "code",
      "metadata": {
        "id": "gidfr_f9I9z8"
      },
      "source": [
        "#remove valor incoerente\n",
        "df = df[df.Medal != 'Nelson']"
      ],
      "execution_count": 51,
      "outputs": []
    },
    {
      "cell_type": "code",
      "metadata": {
        "id": "al8k1D_DJbv-"
      },
      "source": [
        "# insere o string 'Loser' para quem nao ganhou medalha\n",
        "df.Medal.fillna('Loser', inplace=True)"
      ],
      "execution_count": 52,
      "outputs": []
    },
    {
      "cell_type": "code",
      "metadata": {
        "colab": {
          "base_uri": "https://localhost:8080/"
        },
        "id": "oZrAaUkSJkf7",
        "outputId": "e1e34ca8-a5b1-44ae-fea1-1be9d571647c"
      },
      "source": [
        "# verifica se a limpeza deu certo\n",
        "df.Medal.unique()"
      ],
      "execution_count": 53,
      "outputs": [
        {
          "output_type": "execute_result",
          "data": {
            "text/plain": [
              "array(['Loser', 'Bronze', 'Gold', 'Silver'], dtype=object)"
            ]
          },
          "metadata": {},
          "execution_count": 53
        }
      ]
    },
    {
      "cell_type": "markdown",
      "metadata": {
        "id": "V4jWZurgMwkQ"
      },
      "source": [
        "# Análise dos atletas\n",
        "\n"
      ]
    },
    {
      "cell_type": "markdown",
      "metadata": {
        "id": "V_VwKhvSZzNi"
      },
      "source": [
        "Nesta seção, buscaremos analisar as características dos atletas olímpicos, com um especial enfoque para a idade, altura e peso. Essas características serão relacionadas ao resultado obtido pelos esportistas, a fim procurar algum padrão no quadro de medalhas."
      ]
    },
    {
      "cell_type": "code",
      "metadata": {
        "colab": {
          "base_uri": "https://localhost:8080/",
          "height": 356
        },
        "id": "Df9FdQdANNh4",
        "outputId": "1ca808c5-65ef-477e-d91a-55ee2db29b60"
      },
      "source": [
        "plt.style.use('ggplot')\n",
        "sns.set(rc={\"figure.figsize\":(7, 4)})\n",
        "sns.distplot(df.Age)"
      ],
      "execution_count": 54,
      "outputs": [
        {
          "output_type": "stream",
          "name": "stderr",
          "text": [
            "/usr/local/lib/python3.7/dist-packages/seaborn/distributions.py:2619: FutureWarning: `distplot` is a deprecated function and will be removed in a future version. Please adapt your code to use either `displot` (a figure-level function with similar flexibility) or `histplot` (an axes-level function for histograms).\n",
            "  warnings.warn(msg, FutureWarning)\n"
          ]
        },
        {
          "output_type": "execute_result",
          "data": {
            "text/plain": [
              "<matplotlib.axes._subplots.AxesSubplot at 0x7f361bfb4650>"
            ]
          },
          "metadata": {},
          "execution_count": 54
        },
        {
          "output_type": "display_data",
          "data": {
            "image/png": "[encoded data removed]",
            "text/plain": [
              "<Figure size 504x288 with 1 Axes>"
            ]
          },
          "metadata": {}
        }
      ]
    },
    {
      "cell_type": "markdown",
      "metadata": {
        "id": "Nap6bEReM_uS"
      },
      "source": [
        "A distribuição etária apresentada acima nos mostra uma alta concentração de indivíduos com idades na faixa dos vinte aos trinta anos. Observa-se, além disso, um pico na casa dos trinta anos que foge à tendência apresentada pela linha de tendência.\n",
        "Uma possível hipótese para explicar esse pico seria o fato de que muitos atletas esperam completar trinta anos para se aposentarem. Embora fisicamente o indivíduo com trinta anos não esteja tão diferente das pessoas com 29 ou 31 anos, no universo esportivo as três décadas de vida simbolizam um divisor de águas entre o auge da vitalidade e o início de um declínio da força física. Dessa forma, os atletas ficam 'represados' nessa idade. "
      ]
    },
    {
      "cell_type": "code",
      "metadata": {
        "colab": {
          "base_uri": "https://localhost:8080/",
          "height": 356
        },
        "id": "X1TywUL4Pthq",
        "outputId": "3b35f150-b7fd-4476-a4ea-d291292882ce"
      },
      "source": [
        "df_gold = df[df['Medal'] == 'Gold']\n",
        "plt.style.use('ggplot')\n",
        "sns.set(rc={\"figure.figsize\":(7, 4)})\n",
        "sns.distplot(df_gold.Age)"
      ],
      "execution_count": 55,
      "outputs": [
        {
          "output_type": "stream",
          "name": "stderr",
          "text": [
            "/usr/local/lib/python3.7/dist-packages/seaborn/distributions.py:2619: FutureWarning: `distplot` is a deprecated function and will be removed in a future version. Please adapt your code to use either `displot` (a figure-level function with similar flexibility) or `histplot` (an axes-level function for histograms).\n",
            "  warnings.warn(msg, FutureWarning)\n"
          ]
        },
        {
          "output_type": "execute_result",
          "data": {
            "text/plain": [
              "<matplotlib.axes._subplots.AxesSubplot at 0x7f361162eed0>"
            ]
          },
          "metadata": {},
          "execution_count": 55
        },
        {
          "output_type": "display_data",
          "data": {
            "image/png": "[encoded data removed]",
            "text/plain": [
              "<Figure size 504x288 with 1 Axes>"
            ]
          },
          "metadata": {}
        }
      ]
    },
    {
      "cell_type": "markdown",
      "metadata": {
        "id": "39AP5H1BOBPe"
      },
      "source": [
        "A distribuição das idades dos atletas com medalha de ouro difere sutilmente da distribuição das idades dos atletas olímpicos em geral. A ausência do pico dos trinta anos pode indicar que a decisão de adiar a aposentadoria para uma idade específica não faz com que o número de medalhas de ouro desse grupo de pessoas destoe da linha de tendência. Isso pode nos dizer que o desejo de parar de competir com uma idade 'redonda' é puramente arbitrário e não acarreta o prolongamento do auge físico do atleta.\n",
        "Um nadador com 29 anos, por exemplo, já é capaz de perceber um prejuízo na sua força corpórea, de forma que seu desempenho se mostra bastante prejudicado e suas chances de ganhar o ouro, bastante reduzidas. Apesar disso, o atleta aguarda mais um ano para encerrar sua carreira com o objetivo de completar os trinta anos."
      ]
    },
    {
      "cell_type": "code",
      "metadata": {
        "colab": {
          "base_uri": "https://localhost:8080/",
          "height": 382
        },
        "id": "x4yotIA-UQ2i",
        "outputId": "4c2fc639-8edb-4228-edeb-9d8752a26944"
      },
      "source": [
        "plt.style.use('ggplot')\n",
        "sns.set(rc={\"figure.figsize\":(8, 8)})\n",
        "sns.catplot(x='Medal', y='Height', hue='Sex', order=['Loser', 'Bronze', 'Silver', 'Gold'], kind='box', \n",
        "            data=df, palette=[\"#1919EE\", '#EE1935'])"
      ],
      "execution_count": 56,
      "outputs": [
        {
          "output_type": "execute_result",
          "data": {
            "text/plain": [
              "<seaborn.axisgrid.FacetGrid at 0x7f36110c5810>"
            ]
          },
          "metadata": {},
          "execution_count": 56
        },
        {
          "output_type": "display_data",
          "data": {
            "image/png": "[encoded data removed]",
            "text/plain": [
              "<Figure size 443.1x360 with 1 Axes>"
            ]
          },
          "metadata": {}
        }
      ]
    },
    {
      "cell_type": "markdown",
      "metadata": {
        "id": "RlF2uSdMV44W"
      },
      "source": [
        "No gráfico acima, podemos perceber um padrão bastante interessante. Tanto em homens quanto em mulheres, existe uma sutil diferença na altura dos atletas perdedores e os atletas medalistas: aqueles que subiram ao pódio tendem a ser alguns centímetros mais altos. Todavia, entre os que ganharam medalhas não existe uma diferença de altura relevante. Possivelmente isso deve ao fato de que o desempenho esportivo dos medalistas é muito próximo. "
      ]
    },
    {
      "cell_type": "code",
      "metadata": {
        "colab": {
          "base_uri": "https://localhost:8080/",
          "height": 382
        },
        "id": "eBgKcgoPVEAo",
        "outputId": "3de2fb31-e82c-40f2-d03c-f37cec6f7b79"
      },
      "source": [
        "sns.set(rc={\"figure.figsize\":(8, 16)})\n",
        "sns.catplot(x='Medal', y='Weight', hue='Sex', order=['Loser', 'Bronze', 'Silver', 'Gold'], \n",
        "            kind='box', data=df, palette=[\"#1919EE\", '#EE1935'])"
      ],
      "execution_count": 57,
      "outputs": [
        {
          "output_type": "execute_result",
          "data": {
            "text/plain": [
              "<seaborn.axisgrid.FacetGrid at 0x7f361d003d50>"
            ]
          },
          "metadata": {},
          "execution_count": 57
        },
        {
          "output_type": "display_data",
          "data": {
            "image/png": "[encoded data removed]",
            "text/plain": [
              "<Figure size 443.1x360 with 1 Axes>"
            ]
          },
          "metadata": {}
        }
      ]
    },
    {
      "cell_type": "markdown",
      "metadata": {
        "id": "weJQwnYrW34s"
      },
      "source": [
        "A distribuição do peso dos atletas se assemelha ao padrão de distribuição das alturas. Esse fato nos leva a crer que as características físicas dos atletas são bastante importantes para predizer suas chances de chegar ao pódio, mas não são tão relevantes para distinguir entre o ouro, a prata e o bronze. "
      ]
    },
    {
      "cell_type": "code",
      "metadata": {
        "colab": {
          "base_uri": "https://localhost:8080/",
          "height": 573
        },
        "id": "y1tUHSHvO-R9",
        "outputId": "df0689c5-78cd-42fa-abb1-750aa5955563"
      },
      "source": [
        "df_male = df[df['Sex'] == 'MALE']\n",
        "sns.set(rc={\"figure.figsize\":(8, 8)})\n",
        "sns.lineplot('Decade', 'Age', data=df_male)"
      ],
      "execution_count": 58,
      "outputs": [
        {
          "output_type": "stream",
          "name": "stderr",
          "text": [
            "/usr/local/lib/python3.7/dist-packages/seaborn/_decorators.py:43: FutureWarning: Pass the following variables as keyword args: x, y. From version 0.12, the only valid positional argument will be `data`, and passing other arguments without an explicit keyword will result in an error or misinterpretation.\n",
            "  FutureWarning\n"
          ]
        },
        {
          "output_type": "execute_result",
          "data": {
            "text/plain": [
              "<matplotlib.axes._subplots.AxesSubplot at 0x7f3610f038d0>"
            ]
          },
          "metadata": {},
          "execution_count": 58
        },
        {
          "output_type": "display_data",
          "data": {
            "image/png": "[encoded data removed]",
            "text/plain": [
              "<Figure size 576x576 with 1 Axes>"
            ]
          },
          "metadata": {}
        }
      ]
    },
    {
      "cell_type": "code",
      "metadata": {
        "colab": {
          "base_uri": "https://localhost:8080/",
          "height": 573
        },
        "id": "U-PobjPLd94k",
        "outputId": "3fe19aa2-acac-49c8-d990-2bc894118234"
      },
      "source": [
        "sns.set(rc={\"figure.figsize\":(8, 8)})\n",
        "sns.lineplot('Decade', 'Weight', data=df_male)"
      ],
      "execution_count": 59,
      "outputs": [
        {
          "output_type": "stream",
          "name": "stderr",
          "text": [
            "/usr/local/lib/python3.7/dist-packages/seaborn/_decorators.py:43: FutureWarning: Pass the following variables as keyword args: x, y. From version 0.12, the only valid positional argument will be `data`, and passing other arguments without an explicit keyword will result in an error or misinterpretation.\n",
            "  FutureWarning\n"
          ]
        },
        {
          "output_type": "execute_result",
          "data": {
            "text/plain": [
              "<matplotlib.axes._subplots.AxesSubplot at 0x7f3610e672d0>"
            ]
          },
          "metadata": {},
          "execution_count": 59
        },
        {
          "output_type": "display_data",
          "data": {
            "image/png": "[encoded data removed]",
            "text/plain": [
              "<Figure size 576x576 with 1 Axes>"
            ]
          },
          "metadata": {}
        }
      ]
    },
    {
      "cell_type": "code",
      "metadata": {
        "colab": {
          "base_uri": "https://localhost:8080/",
          "height": 576
        },
        "id": "ZDHJfkqNeEXo",
        "outputId": "3409812d-d2c0-40ad-8a19-0c13ff89a667"
      },
      "source": [
        "sns.set(rc={\"figure.figsize\":(8, 8)})\n",
        "sns.lineplot('Decade', 'Height', data=df_male)"
      ],
      "execution_count": 60,
      "outputs": [
        {
          "output_type": "stream",
          "name": "stderr",
          "text": [
            "/usr/local/lib/python3.7/dist-packages/seaborn/_decorators.py:43: FutureWarning: Pass the following variables as keyword args: x, y. From version 0.12, the only valid positional argument will be `data`, and passing other arguments without an explicit keyword will result in an error or misinterpretation.\n",
            "  FutureWarning\n"
          ]
        },
        {
          "output_type": "execute_result",
          "data": {
            "text/plain": [
              "<matplotlib.axes._subplots.AxesSubplot at 0x7f3610d7a250>"
            ]
          },
          "metadata": {},
          "execution_count": 60
        },
        {
          "output_type": "display_data",
          "data": {
            "image/png": "[encoded data removed]",
            "text/plain": [
              "<Figure size 576x576 with 1 Axes>"
            ]
          },
          "metadata": {}
        }
      ]
    },
    {
      "cell_type": "markdown",
      "metadata": {
        "id": "eXNImIAXYAQs"
      },
      "source": [
        "Os três gráficos acima apresentam a evolução do perfil de idade, peso e altura dos atletas do sexo masculino ao longo dos diversos Jogos Olímpicos. Na elaboração desses gráficos, optou-se por incluir apenas os atletas homens, uma vez que a participação relativa dos sexos masculino e feminino não é constante nas diferentes edições das Olimpíadas, e a maior participação das mulheres nos Jogos Olímpicos mais recentes (tema a ser abordado adiante) poderia atrapalhar a análise. \n",
        "O primeiro gráfico dos três aponta uma variação sutil da idade dos atletas, não havendo uma tendência clara.\n",
        "Por outro lado, os gráficos de peso e altura nos mostram que essas características dos atletas tenderam a aumentar ao longo dos jogos. Uma possível explicação para isso reside no fato de que o aumento do nível esportivo da competição acarretou a seleção dos biotipos mais propícios aos alto desempenho. No caso, foram selecionadas pessoas altas e pesadas (com elavada massa muscular). \n"
      ]
    },
    {
      "cell_type": "markdown",
      "metadata": {
        "id": "uo1Gqk_GiZSk"
      },
      "source": [
        "# Análise das modalidades esportivas"
      ]
    },
    {
      "cell_type": "markdown",
      "metadata": {
        "id": "s8wvsjOlgiJ7"
      },
      "source": [
        "Nesta seção, serão analisadas cinco modalidades esportivas das Olimpíadas. Diante da impossibilidade de se analisar detalhadamente as 57 modalidades contidas no dataframe, optou-se pela seleção das cinco mais importantes. O critério para essa seleção foi o número de medalhas das modalidades."
      ]
    },
    {
      "cell_type": "code",
      "metadata": {
        "colab": {
          "base_uri": "https://localhost:8080/"
        },
        "id": "hiw1KI2lie59",
        "outputId": "331dac6b-d878-4a3c-e66e-ec795487d151"
      },
      "source": [
        "# cria coluna 'IMC' com o indice de massa corporea dos atletas\n",
        "df['IMC'] = df['Weight'] / (df['Height'] / 100) ** 2\n",
        "\n",
        "# cria o df apenas com atletas medalistas\n",
        "df_medalistas = df[df['Medal'] != 'Loser']\n",
        "\n",
        "# nos fornece as modalidades esportivas com maior numero de medalhas nos Jogos\n",
        "df_medalistas['Sport'].value_counts()[:5]"
      ],
      "execution_count": 61,
      "outputs": [
        {
          "output_type": "execute_result",
          "data": {
            "text/plain": [
              "Athletics     3522\n",
              "Swimming      2442\n",
              "Rowing        2066\n",
              "Ice Hockey    1276\n",
              "Fencing       1179\n",
              "Name: Sport, dtype: int64"
            ]
          },
          "metadata": {},
          "execution_count": 61
        }
      ]
    },
    {
      "cell_type": "code",
      "metadata": {
        "id": "_DNTJEuxjRhy"
      },
      "source": [
        "# cria diferentes df apenas com os medalistas de cada modalidade\n",
        "df_Athletics = df_medalistas[df_medalistas['Sport'] == 'Athletics']\n",
        "df_Swimming = df_medalistas[df_medalistas['Sport'] == 'Swimming']\n",
        "df_Rowing = df_medalistas[df_medalistas['Sport'] == 'Rowing']\n",
        "df_IceHockey = df_medalistas[df_medalistas['Sport'] == 'Ice Hockey']\n",
        "df_Fencing  = df_medalistas[df_medalistas['Sport'] == 'Fencing']\n",
        "\n",
        "# cria um df apenas com os atletas dessas cinco modalidades\n",
        "df_Top5 = pd.concat([df_Athletics, df_Swimming, df_Rowing, df_IceHockey, df_Fencing])"
      ],
      "execution_count": 62,
      "outputs": []
    },
    {
      "cell_type": "code",
      "metadata": {
        "colab": {
          "base_uri": "https://localhost:8080/",
          "height": 382
        },
        "id": "d-U82ouSmgtQ",
        "outputId": "6f8c0fba-4c56-450a-a201-8097b88ab265"
      },
      "source": [
        "sns.set(rc={\"figure.figsize\":(8, 16)})\n",
        "sns.catplot(x='Sport', y='Weight', kind='box', data=df_Top5)"
      ],
      "execution_count": 63,
      "outputs": [
        {
          "output_type": "execute_result",
          "data": {
            "text/plain": [
              "<seaborn.axisgrid.FacetGrid at 0x7f3610d84b90>"
            ]
          },
          "metadata": {},
          "execution_count": 63
        },
        {
          "output_type": "display_data",
          "data": {
            "image/png": "[encoded data removed]",
            "text/plain": [
              "<Figure size 360x360 with 1 Axes>"
            ]
          },
          "metadata": {}
        }
      ]
    },
    {
      "cell_type": "markdown",
      "metadata": {
        "id": "rx0PW9Uihj2J"
      },
      "source": [
        "No gráfico acima pode-se perceber diferença de peso dos atletas de cada uma dessas cinco modalidades. Nota-se que o remo e o hockey de gelo selecionam atletas consideravelmente mais pesados do que os outros três esportes. Isso deve indicar uma possível vantagem às pessoas mais pesadas praticantes desses esportes. \n",
        "Além disso, chama a atenção o número de outliers no gráfico referente ao atletismo. Uma possível explicação para isso é a existência de uma gama de modalidades bastante diferentes dentro da categoria do atletismo. Assim, os arremessadores de peso, que tem uma massa corpórea muito superior aos corredores, tendem a ser tratados como outliers. "
      ]
    },
    {
      "cell_type": "code",
      "metadata": {
        "colab": {
          "base_uri": "https://localhost:8080/",
          "height": 382
        },
        "id": "CaRWk2Ywl6dU",
        "outputId": "9a0038a2-4184-468e-f693-4d509d351cac"
      },
      "source": [
        "sns.set(rc={\"figure.figsize\":(8, 16)})\n",
        "sns.catplot(x='Sport', y='Height', hue='Medal', hue_order=['Bronze', 'Silver', 'Gold'],\n",
        "            kind='box', data=df_Top5, palette=['sienna', 'silver', 'gold'])"
      ],
      "execution_count": 64,
      "outputs": [
        {
          "output_type": "execute_result",
          "data": {
            "text/plain": [
              "<seaborn.axisgrid.FacetGrid at 0x7f361108c910>"
            ]
          },
          "metadata": {},
          "execution_count": 64
        },
        {
          "output_type": "display_data",
          "data": {
            "image/png": "[encoded data removed]",
            "text/plain": [
              "<Figure size 437.85x360 with 1 Axes>"
            ]
          },
          "metadata": {}
        }
      ]
    },
    {
      "cell_type": "markdown",
      "metadata": {
        "id": "8p8TIRWCZ9qQ"
      },
      "source": [
        "No gráfico acima, podemos observar não apenas a diferença de altura entre os atletas das cinco modalidades mas também o padrão de altura dentro do pódio. Com excessão da natação, do remo e da esgrima, a altura dos medalistas não varia substancialmente. \n",
        "Na natação e no remo, contudo, percebe-se uma correlação entre a o resultado do atleta e sua altura: quanto mais alto ele é, melhor tende a ser a sua medalha. \n",
        "Na esgrima, por outro lado, a relação se inverte e a maior altura está associada a um pior resultado. "
      ]
    },
    {
      "cell_type": "code",
      "metadata": {
        "colab": {
          "base_uri": "https://localhost:8080/",
          "height": 229
        },
        "id": "hxXJTKdG2pEP",
        "outputId": "e9273861-7213-42f3-eada-1215f28413e5"
      },
      "source": [
        "# obtem a media de medalhas por atleta de cada modalidade\n",
        "media_medalhas_Athletics = len(df_Athletics) / len(df_Athletics.Name.unique())\n",
        "media_medalhas_Swimming = len(df_Swimming) / len(df_Swimming.Name.unique())\n",
        "media_medalhas_Rowing = len(df_Rowing) / len(df_Rowing.Name.unique())\n",
        "media_medalhas_IceHockey = len(df_IceHockey) / len(df_IceHockey.Name.unique())\n",
        "media_medalhas_Fencing = len(df_Fencing) / len(df_Fencing.Name.unique())\n",
        "\n",
        "# cria dois arrays (um para cada eixo do grafico)\n",
        "media_medalhas = [media_medalhas_Athletics, media_medalhas_Swimming, media_medalhas_Rowing,\n",
        "                  media_medalhas_IceHockey, media_medalhas_Fencing]\n",
        "esportes = ['Athletics', 'Swimming', 'Rowing', 'Ice Hockey', 'Fencing']\n",
        "\n",
        "# plota o grafico\n",
        "fig = plt.figure(figsize=(10,3))\n",
        "ax = fig.add_subplot(111)\n",
        "ax.barh(esportes, media_medalhas, align='center', height=.25)\n",
        "ax.set_title('Média de medalhas por atleta em cada modalidade')\n",
        "plt.show()\n"
      ],
      "execution_count": 66,
      "outputs": [
        {
          "output_type": "display_data",
          "data": {
            "image/png": "[encoded data removed]",
            "text/plain": [
              "<Figure size 720x216 with 1 Axes>"
            ]
          },
          "metadata": {}
        }
      ]
    },
    {
      "cell_type": "markdown",
      "metadata": {
        "id": "YFUcZqHfeAIR"
      },
      "source": [
        "O gráfico acima mostra o numero medio de medalhas por atleta em cada uma das cinco modalidades. A maior media de medalhas para natação e para esgrima se devem à possibilidade de o atleta conquistar várias medalhas dentro da competição.\n",
        "Na natação, por exemplo, o esportista pode competir em um total de 17 provas, que variam em distância e estilo. Na esgrima, os atletas podem competir na categorias individual ou em grupo e com três tipos diferentes de espada. \n",
        "Embora o atlestismo também tenha essa possibilidade de múltiplas medalhas, cada uma das provas do atletismo tem um tipo de treinamento bastante específico, o que implica a especialização dos atletas."
      ]
    },
    {
      "cell_type": "markdown",
      "metadata": {
        "id": "0dUioS0ZMMFH"
      },
      "source": [
        "# Análise histórica dos jogos\n",
        "\n"
      ]
    },
    {
      "cell_type": "markdown",
      "metadata": {
        "id": "6iio5d8xgb8F"
      },
      "source": [
        "Nesta seção, será analisada a evolução histórica dos Jogos Olímpicos com um enfoque sobre a participação dos diferentes países e dos diferentes gêneros nesse evento esportivo, a fim de se encontrar um paralelo entre as mudanças na sociedade e na organização das Olímpíadas. Afinal, será que as mudanças geopolíticas tem implicações sobre o esporte?"
      ]
    },
    {
      "cell_type": "code",
      "metadata": {
        "colab": {
          "base_uri": "https://localhost:8080/"
        },
        "id": "N5HMEJkKM4si",
        "outputId": "b997c964-1df9-4c6a-be9e-36c762d4cb9b"
      },
      "source": [
        "# cria um df apenas com os atletas do basket americano masculino de 2012\n",
        "df_basket = df[df['Sport'] == 'Basketball']\n",
        "df_basket = df_basket[df_basket['Year'] == 2012]\n",
        "df_basket = df_basket[df_basket['Sex'] == 'MALE']\n",
        "df_basket = df_basket[df_basket['NOC'] == 'USA']\n",
        "\n",
        "# encontra o tamanho do df criado\n",
        "len(df_basket)"
      ],
      "execution_count": 67,
      "outputs": [
        {
          "output_type": "execute_result",
          "data": {
            "text/plain": [
              "12"
            ]
          },
          "metadata": {},
          "execution_count": 67
        }
      ]
    },
    {
      "cell_type": "markdown",
      "metadata": {
        "id": "Bxs5THeWhg1n"
      },
      "source": [
        "A cédula acima nos apresenta um possível problema da análise a ser realizada. Como constatado, para os esportes coletivos, como o basketball, o df contabiliza uma medalha para cada integrante do time. Dessa forma, o método utilizado adiante de contar o número de medalhas obtido por cada país irá atribuir várias medalhas a cada vitória em esporte coletivo. Por isso, as nações especialmente boas nesses esportes terão sua contagem de medalhas superestimadas."
      ]
    },
    {
      "cell_type": "code",
      "metadata": {
        "id": "aO42Zaw6Zpoa"
      },
      "source": [
        "# cria três df, um para cada período descrito\n",
        "\n",
        "# periodo de 1896-1945\n",
        "df_periodo1 = df_gold[df_gold['Year'] <= 1945]\n",
        "\n",
        "# periodo de 1945-1992\n",
        "df_periodo2 = df_gold[df_gold['Year'] > 1945]\n",
        "df_periodo2 = df_periodo2[df_periodo2['Year'] <= 1992]\n",
        "\n",
        "# periodo de 1992-2016\n",
        "df_periodo3 = df_gold[df_gold['Year'] > 1992]"
      ],
      "execution_count": 68,
      "outputs": []
    },
    {
      "cell_type": "markdown",
      "metadata": {
        "id": "d4SWq0YBjAkW"
      },
      "source": [
        "A divisão realizada acima divide a história em três momentos específicos:\n",
        "\n",
        "1.   antes da Segunda Guerra Mundial\n",
        "2.   Guerra Fria\n",
        "3.   Nova ordem mundial\n",
        "\n",
        "\n",
        "\n"
      ]
    },
    {
      "cell_type": "code",
      "metadata": {
        "colab": {
          "base_uri": "https://localhost:8080/",
          "height": 356
        },
        "id": "9ggxtwN5cpbm",
        "outputId": "7dcb0651-25ab-4262-efe0-e48c586ebf22"
      },
      "source": [
        "plt.figure (figsize=(10,5))\n",
        "ax = df_periodo1['NOC'].value_counts()[:5].plot.barh()\n",
        "ax.set_xlabel('número de ouros')\n",
        "ax.set_ylabel('país')\n"
      ],
      "execution_count": 69,
      "outputs": [
        {
          "output_type": "execute_result",
          "data": {
            "text/plain": [
              "Text(0, 0.5, 'país')"
            ]
          },
          "metadata": {},
          "execution_count": 69
        },
        {
          "output_type": "display_data",
          "data": {
            "image/png": "[encoded data removed]",
            "text/plain": [
              "<Figure size 720x360 with 1 Axes>"
            ]
          },
          "metadata": {}
        }
      ]
    },
    {
      "cell_type": "markdown",
      "metadata": {
        "id": "Wdd63vTSkOdw"
      },
      "source": [
        "O grafico acima representa o quadro de medalhas referente ao periodo 1 (de 1896 até 1945). A hegemonia estadunidense estabelecida no cenário geopolítico após a Primeira Guerra já mostra reflexos na hegemonia esportiva desse país, que, desde então, utiliza o esporte como uma espécie de retórica do poder. \n",
        "Deve-se notar que o cenário de destruição e crise econômica da Europa no período entre-guerras trouxe graves consequências para o resultado dessas nações no esporte. Afinal, a geração de homens perdida no conflito militar encerrado em 1914 reduziu a drasticamente a população jovem dos países europeus, impedindo-os de se consagrar no esporte. "
      ]
    },
    {
      "cell_type": "code",
      "metadata": {
        "colab": {
          "base_uri": "https://localhost:8080/",
          "height": 356
        },
        "id": "UC3XpxzXeIcT",
        "outputId": "26184718-70af-4cda-df30-5bbd9d19227b"
      },
      "source": [
        "plt.figure (figsize=(10,5))\n",
        "ax = df_periodo2['NOC'].value_counts()[:5].plot.barh()\n",
        "ax.set_xlabel('número de ouros')\n",
        "ax.set_ylabel('país')\n"
      ],
      "execution_count": 70,
      "outputs": [
        {
          "output_type": "execute_result",
          "data": {
            "text/plain": [
              "Text(0, 0.5, 'país')"
            ]
          },
          "metadata": {},
          "execution_count": 70
        },
        {
          "output_type": "display_data",
          "data": {
            "image/png": "[encoded data removed]",
            "text/plain": [
              "<Figure size 720x360 with 1 Axes>"
            ]
          },
          "metadata": {}
        }
      ]
    },
    {
      "cell_type": "markdown",
      "metadata": {
        "id": "yUjUgUAamGxK"
      },
      "source": [
        "O quadro de medalhas acima nos mostra os resultados dos cinco principais medalistas no período de 1945 até 1992. Esse gráfico sintetiza de forma bastante acurada a realidade bipolar desse período histórico, em que o enfrentamento da potência capitalista (USA) e da socialista (URS) encontrou no esporte uma das suas manifestações mais claras. "
      ]
    },
    {
      "cell_type": "code",
      "metadata": {
        "colab": {
          "base_uri": "https://localhost:8080/",
          "height": 356
        },
        "id": "p18qosHReNp1",
        "outputId": "b547d635-66b3-4e2e-9cfc-41873b08a4e5"
      },
      "source": [
        "plt.figure (figsize=(10,5))\n",
        "ax = df_periodo3['NOC'].value_counts()[:5].plot.barh()\n",
        "ax.set_xlabel('número de ouros')\n",
        "ax.set_ylabel('país')\n"
      ],
      "execution_count": 71,
      "outputs": [
        {
          "output_type": "execute_result",
          "data": {
            "text/plain": [
              "Text(0, 0.5, 'país')"
            ]
          },
          "metadata": {},
          "execution_count": 71
        },
        {
          "output_type": "display_data",
          "data": {
            "image/png": "[encoded data removed]",
            "text/plain": [
              "<Figure size 720x360 with 1 Axes>"
            ]
          },
          "metadata": {}
        }
      ]
    },
    {
      "cell_type": "markdown",
      "metadata": {
        "id": "ydDsHhHpod5J"
      },
      "source": [
        "O gráfico acima representa o último periodo da historia dos jogos olimpicos. Nele percebe-se que a crise do bloco soviético nos fins do século XX conferiram grande vantagem aos EUA, que consolidaram sua hegemonia não apenas na realidadee geopolítica mas também no universo esportivo. \n",
        "Deve-se destacar também a crescente importância da China no cenário econômico global, a qual vem acompanhada pelo aumento da relevância esportiva do país asiático.\n"
      ]
    },
    {
      "cell_type": "markdown",
      "metadata": {
        "id": "kQpwcWDRpfRN"
      },
      "source": [
        "Assim, a sequência dos três gráficos acima comprova a existência de um paralelo bastante claro entre a realidade geopolítica e o quadro de medalhas dos Jogos Olímpicos."
      ]
    },
    {
      "cell_type": "code",
      "metadata": {
        "colab": {
          "base_uri": "https://localhost:8080/",
          "height": 229
        },
        "id": "6oDcNKZGSjHX",
        "outputId": "37ba274d-09e0-4416-cc3a-e360358173f8"
      },
      "source": [
        "# printa a porcentagem do total de medalhas obtida pelas cinco princiapis equipe em cada periodo\n",
        "porcentagem_periodo1 = 100*df_periodo1.NOC.value_counts()[:5].sum()/df_periodo1.NOC.value_counts().sum()\n",
        "porcentagem_periodo2 = 100*df_periodo2.NOC.value_counts()[:5].sum()/df_periodo2.NOC.value_counts().sum()\n",
        "porcentagem_periodo3 = 100*df_periodo3.NOC.value_counts()[:5].sum()/df_periodo3.NOC.value_counts().sum()\n",
        "\n",
        "# cria dois arrays (um para cada eixo do grafico)\n",
        "porcentagens = [porcentagem_periodo1, porcentagem_periodo2, porcentagem_periodo3]\n",
        "periodos = ['1890-1945', '1946-1992', '1993-2021']\n",
        "\n",
        "# plota o grafico\n",
        "fig = plt.figure(figsize=(10,3))\n",
        "ax = fig.add_subplot(111)\n",
        "ax.barh(periodos, porcentagens, align='center', height=.25)\n",
        "ax.set_title('Porcentagem do total de medalhas obtida pelos 5 maiores medalistas')\n",
        "plt.show()"
      ],
      "execution_count": 72,
      "outputs": [
        {
          "output_type": "display_data",
          "data": {
            "image/png": "[encoded data removed]",
            "text/plain": [
              "<Figure size 720x216 with 1 Axes>"
            ]
          },
          "metadata": {}
        }
      ]
    },
    {
      "cell_type": "markdown",
      "metadata": {
        "id": "uGIZY1X9rACv"
      },
      "source": [
        "O gráfico acima busca caracterizar o grau de concentração de medalhas por periodo histórico. Pode-se observar que no primeiro período os cinco principais paises detinham cerca de 70% do total de medalhas de ouro das olimpíadas. Esse numero caiu até um valor aproximado de 45% no terceiro período estudado. Assim, pode-se concluir que os jogos mais recentes foram marcados pela participação e pela vitória de atletas de um maior número de países. Ou seja, o esporte tem se tornado menos concentrado e está se tornando cotidiano da população de mais regiões do planeta."
      ]
    },
    {
      "cell_type": "code",
      "metadata": {
        "colab": {
          "base_uri": "https://localhost:8080/",
          "height": 365
        },
        "id": "6UMggcU_VGM3",
        "outputId": "1ac6bfa2-d204-4503-d853-3b5f49e5f476"
      },
      "source": [
        "# obtem a porcentagem de atletas homens\n",
        "porcentagem_male1 = df_periodo1['Sex'].value_counts()[0] / df_periodo1['Sex'].value_counts().sum()\n",
        "porcentagem_male2 = df_periodo2['Sex'].value_counts()[0] / df_periodo2['Sex'].value_counts().sum()\n",
        "porcentagem_male3 = df_periodo3['Sex'].value_counts()[0] / df_periodo3['Sex'].value_counts().sum()\n",
        "\n",
        "#obtem a porcentagem atletas mulheres\n",
        "porcentagem_female1 = 1 - porcentagem_male1\n",
        "porcentagem_female2 = 1 - porcentagem_male2\n",
        "porcentagem_female3 = 1 - porcentagem_male3\n",
        "\n",
        "# cria três arrays para serem plotados no grafico\n",
        "periodos = ['1890-1945', '1946-1992', '1993-2021']\n",
        "porcentagens_female = [porcentagem_female1, porcentagem_female2, porcentagem_female3]\n",
        "porecentagens_male = [porcentagem_male1, porcentagem_male2, porcentagem_male3]\n",
        "\n",
        "# plota o grafico\n",
        "fig = plt.figure(figsize=(10,5))\n",
        "ax = fig.add_subplot(111)\n",
        "ax.barh(periodos, porecentagens_male, align='center', height=.25, color='#1919EE',label='male')\n",
        "ax.barh(periodos, porcentagens_female, align='center', height=.25, left=porecentagens_male, color='#EE1935' ,label='female')\n",
        "ax.set_yticks(periodos)\n",
        "ax.set_title('Participação de homens e mulheres nos Jogos')\n",
        "ax.grid(True)\n",
        "ax.legend()\n",
        "plt.tight_layout()\n",
        "plt.show()"
      ],
      "execution_count": 73,
      "outputs": [
        {
          "output_type": "display_data",
          "data": {
            "image/png": "[encoded data removed]",
            "text/plain": [
              "<Figure size 720x360 with 1 Axes>"
            ]
          },
          "metadata": {}
        }
      ]
    },
    {
      "cell_type": "markdown",
      "metadata": {
        "id": "x00Ut8o0skdK"
      },
      "source": [
        "Por fim, o gráfico acima representa o aumento da participação feminina nos Jogos Olímpicos nos três periodos analisados. Desde o princípio do século vinte até a atualidade, as mulheres conquistaram um espaço cada vez maior no esporte, que nas últimas décadas deixou de ser uma atividade monopolizada pelo sexo masculino. \n",
        "Assim, pode-se perceber mais uma vez que as mudanças sociais e históricas na sociedade têm intensas implicações sobre a realidade do esporte e, por decorrência, sobre a organização das Olimpíadas. "
      ]
    }
  ]
}